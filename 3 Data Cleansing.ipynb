{
 "cells": [
  {
   "cell_type": "code",
   "id": "initial_id",
   "metadata": {
    "collapsed": true,
    "ExecuteTime": {
     "end_time": "2024-08-31T07:09:10.411618Z",
     "start_time": "2024-08-31T07:09:10.397509Z"
    }
   },
   "source": [
    "import numpy as np\n",
    "import pandas as pd\n",
    "import matplotlib.pyplot as plt\n",
    "%matplotlib inline\n",
    "import seaborn as sns\n",
    "# Ignore warnings\n",
    "import warnings\n",
    "warnings.filterwarnings('ignore')"
   ],
   "outputs": [],
   "execution_count": 3
  },
  {
   "metadata": {
    "ExecuteTime": {
     "end_time": "2024-08-31T07:09:12.814653Z",
     "start_time": "2024-08-31T07:09:12.367851Z"
    }
   },
   "cell_type": "code",
   "source": "df = pd.read_csv('flat_file3.csv')",
   "id": "ef9e427f55fc0dd",
   "outputs": [],
   "execution_count": 4
  },
  {
   "metadata": {
    "ExecuteTime": {
     "end_time": "2024-08-31T10:13:42.923329Z",
     "start_time": "2024-08-31T10:13:42.889364Z"
    }
   },
   "cell_type": "code",
   "source": [
    "nan_summary = df.isnull().sum()\n",
    "\n",
    "# Display the summary\n",
    "columns_with_nan = nan_summary[nan_summary > 0]\n",
    "print(columns_with_nan)"
   ],
   "id": "cf7b8a66a10f27e",
   "outputs": [
    {
     "name": "stdout",
     "output_type": "stream",
     "text": [
      "province                   18172\n",
      "claimed                      171\n",
      "price_level                29682\n",
      "working_shifts_per_week    69611\n",
      "dtype: int64\n"
     ]
    }
   ],
   "execution_count": 7
  },
  {
   "metadata": {},
   "cell_type": "markdown",
   "source": [
    "# Missing Values\n",
    "### Machine Learning imputation: kNN imputation\n"
   ],
   "id": "d1e75d7b70198ea2"
  },
  {
   "metadata": {
    "ExecuteTime": {
     "end_time": "2024-08-31T11:53:41.526629Z",
     "start_time": "2024-08-31T11:53:41.526457Z"
    }
   },
   "cell_type": "code",
   "source": [
    "from sklearn.impute import KNNImputer\n",
    "df2 = df.copy()\n",
    "imp_cols = df2.select_dtypes(include = ['float64', 'int64']).columns\n",
    "knn_imputer = KNNImputer(n_neighbors=1)\n",
    "imputed_data = pd.DataFrame(knn_imputer.fit_transform(df2[imp_cols]),columns = imp_cols)"
   ],
   "id": "a2cb1bc4dcac7249",
   "outputs": [],
   "execution_count": null
  },
  {
   "metadata": {},
   "cell_type": "code",
   "outputs": [],
   "execution_count": null,
   "source": "",
   "id": "e2071d08f20eac21"
  },
  {
   "metadata": {
    "ExecuteTime": {
     "end_time": "2024-08-31T11:58:43.834217Z",
     "start_time": "2024-08-31T11:58:43.809630Z"
    }
   },
   "cell_type": "code",
   "source": [
    "#!pip install fancyimpute\n",
    "import fancyimpute \n",
    "X=df.copy()"
   ],
   "id": "f0d1a61b9d10f7e1",
   "outputs": [],
   "execution_count": 19
  },
  {
   "metadata": {
    "ExecuteTime": {
     "end_time": "2024-08-31T11:58:53.917965Z",
     "start_time": "2024-08-31T11:58:53.906442Z"
    }
   },
   "cell_type": "code",
   "source": "X.head()",
   "id": "40a0435c34bdd661",
   "outputs": [
    {
     "data": {
      "text/plain": [
       "   claimed  price_level  vegetarian_friendly  vegan_options  gluten_free  \\\n",
       "0      1.0          2.0                    0              0            0   \n",
       "1      1.0          3.0                    0              0            0   \n",
       "2      0.0          2.0                    0              0            0   \n",
       "3      0.0          NaN                    0              0            0   \n",
       "4      1.0          NaN                    0              0            0   \n",
       "\n",
       "   open_days_per_week  working_shifts_per_week  \\\n",
       "0                   0                      NaN   \n",
       "1                   5                     10.0   \n",
       "2                   0                      NaN   \n",
       "3                   5                      5.0   \n",
       "4                   7                     13.0   \n",
       "\n",
       "   Certificate of Excellence 2011  Certificate of Excellence 2012  \\\n",
       "0                               0                               0   \n",
       "1                               0                               0   \n",
       "2                               0                               0   \n",
       "3                               0                               0   \n",
       "4                               0                               0   \n",
       "\n",
       "   Certificate of Excellence 2013  ...  Sports bars  Street Parking  \\\n",
       "0                               0  ...            0               0   \n",
       "1                               0  ...            0               1   \n",
       "2                               0  ...            0               0   \n",
       "3                               0  ...            0               0   \n",
       "4                               0  ...            0               0   \n",
       "\n",
       "   Table Service  Takeout  Television  Valet Parking  Validated Parking  \\\n",
       "0              0        0           0              0                  0   \n",
       "1              0        0           0              0                  0   \n",
       "2              1        0           0              0                  0   \n",
       "3              0        0           0              0                  0   \n",
       "4              1        1           0              0                  0   \n",
       "\n",
       "   Waterfront  Wheelchair Accessible  Wine and Beer  \n",
       "0           0                      0              0  \n",
       "1           0                      0              0  \n",
       "2           0                      1              0  \n",
       "3           0                      0              0  \n",
       "4           0                      1              1  \n",
       "\n",
       "[5 rows x 86 columns]"
      ],
      "text/html": [
       "<div>\n",
       "<style scoped>\n",
       "    .dataframe tbody tr th:only-of-type {\n",
       "        vertical-align: middle;\n",
       "    }\n",
       "\n",
       "    .dataframe tbody tr th {\n",
       "        vertical-align: top;\n",
       "    }\n",
       "\n",
       "    .dataframe thead th {\n",
       "        text-align: right;\n",
       "    }\n",
       "</style>\n",
       "<table border=\"1\" class=\"dataframe\">\n",
       "  <thead>\n",
       "    <tr style=\"text-align: right;\">\n",
       "      <th></th>\n",
       "      <th>claimed</th>\n",
       "      <th>price_level</th>\n",
       "      <th>vegetarian_friendly</th>\n",
       "      <th>vegan_options</th>\n",
       "      <th>gluten_free</th>\n",
       "      <th>open_days_per_week</th>\n",
       "      <th>working_shifts_per_week</th>\n",
       "      <th>Certificate of Excellence 2011</th>\n",
       "      <th>Certificate of Excellence 2012</th>\n",
       "      <th>Certificate of Excellence 2013</th>\n",
       "      <th>...</th>\n",
       "      <th>Sports bars</th>\n",
       "      <th>Street Parking</th>\n",
       "      <th>Table Service</th>\n",
       "      <th>Takeout</th>\n",
       "      <th>Television</th>\n",
       "      <th>Valet Parking</th>\n",
       "      <th>Validated Parking</th>\n",
       "      <th>Waterfront</th>\n",
       "      <th>Wheelchair Accessible</th>\n",
       "      <th>Wine and Beer</th>\n",
       "    </tr>\n",
       "  </thead>\n",
       "  <tbody>\n",
       "    <tr>\n",
       "      <th>0</th>\n",
       "      <td>1.0</td>\n",
       "      <td>2.0</td>\n",
       "      <td>0</td>\n",
       "      <td>0</td>\n",
       "      <td>0</td>\n",
       "      <td>0</td>\n",
       "      <td>NaN</td>\n",
       "      <td>0</td>\n",
       "      <td>0</td>\n",
       "      <td>0</td>\n",
       "      <td>...</td>\n",
       "      <td>0</td>\n",
       "      <td>0</td>\n",
       "      <td>0</td>\n",
       "      <td>0</td>\n",
       "      <td>0</td>\n",
       "      <td>0</td>\n",
       "      <td>0</td>\n",
       "      <td>0</td>\n",
       "      <td>0</td>\n",
       "      <td>0</td>\n",
       "    </tr>\n",
       "    <tr>\n",
       "      <th>1</th>\n",
       "      <td>1.0</td>\n",
       "      <td>3.0</td>\n",
       "      <td>0</td>\n",
       "      <td>0</td>\n",
       "      <td>0</td>\n",
       "      <td>5</td>\n",
       "      <td>10.0</td>\n",
       "      <td>0</td>\n",
       "      <td>0</td>\n",
       "      <td>0</td>\n",
       "      <td>...</td>\n",
       "      <td>0</td>\n",
       "      <td>1</td>\n",
       "      <td>0</td>\n",
       "      <td>0</td>\n",
       "      <td>0</td>\n",
       "      <td>0</td>\n",
       "      <td>0</td>\n",
       "      <td>0</td>\n",
       "      <td>0</td>\n",
       "      <td>0</td>\n",
       "    </tr>\n",
       "    <tr>\n",
       "      <th>2</th>\n",
       "      <td>0.0</td>\n",
       "      <td>2.0</td>\n",
       "      <td>0</td>\n",
       "      <td>0</td>\n",
       "      <td>0</td>\n",
       "      <td>0</td>\n",
       "      <td>NaN</td>\n",
       "      <td>0</td>\n",
       "      <td>0</td>\n",
       "      <td>0</td>\n",
       "      <td>...</td>\n",
       "      <td>0</td>\n",
       "      <td>0</td>\n",
       "      <td>1</td>\n",
       "      <td>0</td>\n",
       "      <td>0</td>\n",
       "      <td>0</td>\n",
       "      <td>0</td>\n",
       "      <td>0</td>\n",
       "      <td>1</td>\n",
       "      <td>0</td>\n",
       "    </tr>\n",
       "    <tr>\n",
       "      <th>3</th>\n",
       "      <td>0.0</td>\n",
       "      <td>NaN</td>\n",
       "      <td>0</td>\n",
       "      <td>0</td>\n",
       "      <td>0</td>\n",
       "      <td>5</td>\n",
       "      <td>5.0</td>\n",
       "      <td>0</td>\n",
       "      <td>0</td>\n",
       "      <td>0</td>\n",
       "      <td>...</td>\n",
       "      <td>0</td>\n",
       "      <td>0</td>\n",
       "      <td>0</td>\n",
       "      <td>0</td>\n",
       "      <td>0</td>\n",
       "      <td>0</td>\n",
       "      <td>0</td>\n",
       "      <td>0</td>\n",
       "      <td>0</td>\n",
       "      <td>0</td>\n",
       "    </tr>\n",
       "    <tr>\n",
       "      <th>4</th>\n",
       "      <td>1.0</td>\n",
       "      <td>NaN</td>\n",
       "      <td>0</td>\n",
       "      <td>0</td>\n",
       "      <td>0</td>\n",
       "      <td>7</td>\n",
       "      <td>13.0</td>\n",
       "      <td>0</td>\n",
       "      <td>0</td>\n",
       "      <td>0</td>\n",
       "      <td>...</td>\n",
       "      <td>0</td>\n",
       "      <td>0</td>\n",
       "      <td>1</td>\n",
       "      <td>1</td>\n",
       "      <td>0</td>\n",
       "      <td>0</td>\n",
       "      <td>0</td>\n",
       "      <td>0</td>\n",
       "      <td>1</td>\n",
       "      <td>1</td>\n",
       "    </tr>\n",
       "  </tbody>\n",
       "</table>\n",
       "<p>5 rows × 86 columns</p>\n",
       "</div>"
      ]
     },
     "execution_count": 20,
     "metadata": {},
     "output_type": "execute_result"
    }
   ],
   "execution_count": 20
  },
  {
   "metadata": {
    "ExecuteTime": {
     "end_time": "2024-08-31T11:56:19.142576Z",
     "start_time": "2024-08-31T11:56:19.116406Z"
    }
   },
   "cell_type": "code",
   "source": "",
   "id": "df11a0b5eec59803",
   "outputs": [],
   "execution_count": 14
  },
  {
   "metadata": {
    "jupyter": {
     "is_executing": true
    },
    "ExecuteTime": {
     "start_time": "2024-08-31T11:59:03.684659Z"
    }
   },
   "cell_type": "code",
   "source": [
    "X_imputed = fancyimpute.KNN(3).fit_transform(X)\n",
    "X_imputed = pd.DataFrame(X_imputed,columns=X.columns)\n",
    "X_imputed.head()"
   ],
   "id": "640a340b6db38699",
   "outputs": [],
   "execution_count": null
  },
  {
   "metadata": {},
   "cell_type": "code",
   "outputs": [],
   "execution_count": null,
   "source": [
    "### MICE\n",
    "## Multiple Imputation by Chained Equations\n",
    "#X_imputed = IterativeImputer(max_iter=15) \n",
    "X_imputed = fancyimpute.IterativeImputer().fit_transform(X)\n",
    "X_imputed = pd.DataFrame(X_imputed,columns=X.columns)\n",
    "X_imputed.head()"
   ],
   "id": "3f80ec24fdd9de33"
  }
 ],
 "metadata": {
  "kernelspec": {
   "display_name": "Python 3",
   "language": "python",
   "name": "python3"
  },
  "language_info": {
   "codemirror_mode": {
    "name": "ipython",
    "version": 2
   },
   "file_extension": ".py",
   "mimetype": "text/x-python",
   "name": "python",
   "nbconvert_exporter": "python",
   "pygments_lexer": "ipython2",
   "version": "2.7.6"
  }
 },
 "nbformat": 4,
 "nbformat_minor": 5
}
