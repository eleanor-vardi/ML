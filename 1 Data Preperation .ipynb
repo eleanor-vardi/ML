{
 "cells": [
  {
   "cell_type": "code",
   "id": "5496ba2d",
   "metadata": {
    "ExecuteTime": {
     "end_time": "2024-09-01T05:14:00.089438Z",
     "start_time": "2024-09-01T05:14:00.081664Z"
    }
   },
   "source": [
    "import pandas as pd\n",
    "import numpy as np\n",
    "import matplotlib.pyplot as plt\n",
    "import seaborn as sns\n",
    "import warnings\n",
    "\n",
    "warnings.filterwarnings(\"ignore\")\n",
    "%matplotlib inline"
   ],
   "outputs": [],
   "execution_count": 1
  },
  {
   "cell_type": "markdown",
   "id": "e19b3e2a",
   "metadata": {},
   "source": [
    "# DATA PREP"
   ]
  },
  {
   "cell_type": "markdown",
   "id": "c227e239",
   "metadata": {},
   "source": [
    "Uploading the data"
   ]
  },
  {
   "cell_type": "code",
   "id": "7237e440",
   "metadata": {
    "ExecuteTime": {
     "end_time": "2024-07-27T07:24:25.910973Z",
     "start_time": "2024-07-27T07:24:18.713095Z"
    }
   },
   "source": "df=pd.read_csv(r\"tripadvisor_european_restaurants.csv\")\n",
   "outputs": [],
   "execution_count": 93
  },
  {
   "cell_type": "code",
   "id": "88c09c12",
   "metadata": {
    "scrolled": true,
    "jupyter": {
     "is_executing": true
    }
   },
   "source": "df.head()",
   "outputs": [],
   "execution_count": null
  },
  {
   "metadata": {
    "ExecuteTime": {
     "end_time": "2024-07-27T07:24:26.044566Z",
     "start_time": "2024-07-27T07:24:25.962779Z"
    }
   },
   "cell_type": "code",
   "source": [
    "# Remove rows with country other than France\n",
    "df_france = df[df['country'] == 'France']\n"
   ],
   "id": "d96a3648d60083d7",
   "outputs": [],
   "execution_count": 96
  },
  {
   "cell_type": "markdown",
   "id": "2553d9a9",
   "metadata": {},
   "source": "e returns all rows from both dataframes, and fills in NaN where there are no matches."
  },
  {
   "cell_type": "code",
   "id": "5079712b",
   "metadata": {
    "ExecuteTime": {
     "end_time": "2024-08-05T19:42:19.292140Z",
     "start_time": "2024-08-05T19:42:17.091388Z"
    }
   },
   "source": [
    "\n",
    "df_france.to_csv('france_rest.csv', index=False)\n",
    "\n",
    "# Display the first few rows of the merged dataframe\n",
    "df_france"
   ],
   "outputs": [
    {
     "data": {
      "text/plain": [
       "            restaurant_link           restaurant_name  \\\n",
       "0       g10001637-d10002227                    Le 147   \n",
       "1       g10001637-d14975787          Le Saint Jouvent   \n",
       "2        g10002858-d4586832           Au Bout du Pont   \n",
       "3        g10002986-d3510044       Le Relais de Naiade   \n",
       "4        g10022428-d9767191      Relais Du MontSeigne   \n",
       "...                     ...                       ...   \n",
       "155283    g9859641-d7744064              Burgers Bowl   \n",
       "155284    g9862396-d7285125               Au Bon Coin   \n",
       "155285    g9863068-d8560009         S'fassner Stuebel   \n",
       "155286   g9980751-d16852973            Au bon piccolo   \n",
       "155287    g9984709-d5854089  Restaurant La Forteresse   \n",
       "\n",
       "                                        original_location country  \\\n",
       "0       [\"Europe\", \"France\", \"Nouvelle-Aquitaine\", \"Ha...  France   \n",
       "1       [\"Europe\", \"France\", \"Nouvelle-Aquitaine\", \"Ha...  France   \n",
       "2       [\"Europe\", \"France\", \"Centre-Val de Loire\", \"B...  France   \n",
       "3       [\"Europe\", \"France\", \"Nouvelle-Aquitaine\", \"Co...  France   \n",
       "4       [\"Europe\", \"France\", \"Occitanie\", \"Aveyron\", \"...  France   \n",
       "...                                                   ...     ...   \n",
       "155283  [\"Europe\", \"France\", \"Auvergne-Rhone-Alpes\", \"...  France   \n",
       "155284  [\"Europe\", \"France\", \"Normandy\", \"Haute-Norman...  France   \n",
       "155285  [\"Europe\", \"France\", \"Grand Est\", \"Bas-Rhin\", ...  France   \n",
       "155286  [\"Europe\", \"France\", \"Ile-de-France\", \"Bonneui...  France   \n",
       "155287  [\"Europe\", \"France\", \"Ile-de-France\", \"Seine-e...  France   \n",
       "\n",
       "                      region         province                      city  \\\n",
       "0         Nouvelle-Aquitaine     Haute-Vienne             Saint-Jouvent   \n",
       "1         Nouvelle-Aquitaine     Haute-Vienne             Saint-Jouvent   \n",
       "2        Centre-Val de Loire            Berry                Rivarennes   \n",
       "3         Nouvelle-Aquitaine          Correze                   Lacelle   \n",
       "4                  Occitanie          Aveyron  Saint-Laurent-de-Levezou   \n",
       "...                      ...              ...                       ...   \n",
       "155283  Auvergne-Rhone-Alpes           Allier                 Premilhat   \n",
       "155284              Normandy  Haute-Normandie                Colleville   \n",
       "155285             Grand Est         Bas-Rhin         Fessenheim-le-Bas   \n",
       "155286         Ile-de-France              NaN        Bonneuil-en-France   \n",
       "155287         Ile-de-France   Seine-et-Marne          Thoury-Ferrottes   \n",
       "\n",
       "                                                  address   latitude  \\\n",
       "0             10 Maison Neuve, 87510 Saint-Jouvent France  45.961674   \n",
       "1        16 Place de l Eglise, 87510 Saint-Jouvent France  45.957040   \n",
       "2                2 rue des Dames, 36800 Rivarennes France  46.635895   \n",
       "3       9 avenue Porte de la Correze 19170, 19170 Lace...  45.642610   \n",
       "4       route du Montseigne, 12620 Saint-Laurent-de-Le...  44.208860   \n",
       "...                                                   ...        ...   \n",
       "155283  138 avenue des Martyrs Le bowling De Montlucon...  46.337906   \n",
       "155284      1 rue de la Sucrerie, 76400 Colleville France  49.749690   \n",
       "155285  14 rue de Marlenheim, 67117 Fessenheim-le-Bas ...  48.631910   \n",
       "155286  14 route de Flandres, 95500 Bonneuil-en-France...  48.958115   \n",
       "155287  Domaine de la forteresse, 77940 Thoury-Ferrott...  48.298960   \n",
       "\n",
       "        longitude  ... excellent very_good average poor terrible food service  \\\n",
       "0        1.169131  ...       2.0       0.0     0.0  0.0      0.0  4.0     4.5   \n",
       "1        1.205480  ...       2.0       2.0     1.0  0.0      0.0  NaN     NaN   \n",
       "2        1.386133  ...       3.0       1.0     0.0  0.0      0.0  NaN     NaN   \n",
       "3        1.824460  ...       1.0       0.0     0.0  0.0      0.0  4.5     4.5   \n",
       "4        2.960470  ...       4.0       7.0     0.0  0.0      0.0  4.5     4.5   \n",
       "...           ...  ...       ...       ...     ...  ...      ...  ...     ...   \n",
       "155283   2.573007  ...       3.0       2.0     0.0  0.0      1.0  NaN     NaN   \n",
       "155284   0.459540  ...       0.0       1.0     0.0  0.0      0.0  4.0     4.0   \n",
       "155285   7.539170  ...       1.0       0.0     0.0  0.0      0.0  3.5     3.5   \n",
       "155286   2.447226  ...       NaN       NaN     NaN  NaN      NaN  NaN     NaN   \n",
       "155287   2.952520  ...       5.0      10.0     4.0  1.0      2.0  3.5     4.0   \n",
       "\n",
       "       value atmosphere keywords  \n",
       "0        4.0        NaN      NaN  \n",
       "1        NaN        NaN      NaN  \n",
       "2        NaN        NaN      NaN  \n",
       "3        4.5        NaN      NaN  \n",
       "4        4.5        NaN      NaN  \n",
       "...      ...        ...      ...  \n",
       "155283   NaN        NaN      NaN  \n",
       "155284   4.0        NaN      NaN  \n",
       "155285   4.0        NaN      NaN  \n",
       "155286   NaN        NaN      NaN  \n",
       "155287   3.5        NaN      NaN  \n",
       "\n",
       "[155288 rows x 42 columns]"
      ],
      "text/html": [
       "<div>\n",
       "<style scoped>\n",
       "    .dataframe tbody tr th:only-of-type {\n",
       "        vertical-align: middle;\n",
       "    }\n",
       "\n",
       "    .dataframe tbody tr th {\n",
       "        vertical-align: top;\n",
       "    }\n",
       "\n",
       "    .dataframe thead th {\n",
       "        text-align: right;\n",
       "    }\n",
       "</style>\n",
       "<table border=\"1\" class=\"dataframe\">\n",
       "  <thead>\n",
       "    <tr style=\"text-align: right;\">\n",
       "      <th></th>\n",
       "      <th>restaurant_link</th>\n",
       "      <th>restaurant_name</th>\n",
       "      <th>original_location</th>\n",
       "      <th>country</th>\n",
       "      <th>region</th>\n",
       "      <th>province</th>\n",
       "      <th>city</th>\n",
       "      <th>address</th>\n",
       "      <th>latitude</th>\n",
       "      <th>longitude</th>\n",
       "      <th>...</th>\n",
       "      <th>excellent</th>\n",
       "      <th>very_good</th>\n",
       "      <th>average</th>\n",
       "      <th>poor</th>\n",
       "      <th>terrible</th>\n",
       "      <th>food</th>\n",
       "      <th>service</th>\n",
       "      <th>value</th>\n",
       "      <th>atmosphere</th>\n",
       "      <th>keywords</th>\n",
       "    </tr>\n",
       "  </thead>\n",
       "  <tbody>\n",
       "    <tr>\n",
       "      <th>0</th>\n",
       "      <td>g10001637-d10002227</td>\n",
       "      <td>Le 147</td>\n",
       "      <td>[\"Europe\", \"France\", \"Nouvelle-Aquitaine\", \"Ha...</td>\n",
       "      <td>France</td>\n",
       "      <td>Nouvelle-Aquitaine</td>\n",
       "      <td>Haute-Vienne</td>\n",
       "      <td>Saint-Jouvent</td>\n",
       "      <td>10 Maison Neuve, 87510 Saint-Jouvent France</td>\n",
       "      <td>45.961674</td>\n",
       "      <td>1.169131</td>\n",
       "      <td>...</td>\n",
       "      <td>2.0</td>\n",
       "      <td>0.0</td>\n",
       "      <td>0.0</td>\n",
       "      <td>0.0</td>\n",
       "      <td>0.0</td>\n",
       "      <td>4.0</td>\n",
       "      <td>4.5</td>\n",
       "      <td>4.0</td>\n",
       "      <td>NaN</td>\n",
       "      <td>NaN</td>\n",
       "    </tr>\n",
       "    <tr>\n",
       "      <th>1</th>\n",
       "      <td>g10001637-d14975787</td>\n",
       "      <td>Le Saint Jouvent</td>\n",
       "      <td>[\"Europe\", \"France\", \"Nouvelle-Aquitaine\", \"Ha...</td>\n",
       "      <td>France</td>\n",
       "      <td>Nouvelle-Aquitaine</td>\n",
       "      <td>Haute-Vienne</td>\n",
       "      <td>Saint-Jouvent</td>\n",
       "      <td>16 Place de l Eglise, 87510 Saint-Jouvent France</td>\n",
       "      <td>45.957040</td>\n",
       "      <td>1.205480</td>\n",
       "      <td>...</td>\n",
       "      <td>2.0</td>\n",
       "      <td>2.0</td>\n",
       "      <td>1.0</td>\n",
       "      <td>0.0</td>\n",
       "      <td>0.0</td>\n",
       "      <td>NaN</td>\n",
       "      <td>NaN</td>\n",
       "      <td>NaN</td>\n",
       "      <td>NaN</td>\n",
       "      <td>NaN</td>\n",
       "    </tr>\n",
       "    <tr>\n",
       "      <th>2</th>\n",
       "      <td>g10002858-d4586832</td>\n",
       "      <td>Au Bout du Pont</td>\n",
       "      <td>[\"Europe\", \"France\", \"Centre-Val de Loire\", \"B...</td>\n",
       "      <td>France</td>\n",
       "      <td>Centre-Val de Loire</td>\n",
       "      <td>Berry</td>\n",
       "      <td>Rivarennes</td>\n",
       "      <td>2 rue des Dames, 36800 Rivarennes France</td>\n",
       "      <td>46.635895</td>\n",
       "      <td>1.386133</td>\n",
       "      <td>...</td>\n",
       "      <td>3.0</td>\n",
       "      <td>1.0</td>\n",
       "      <td>0.0</td>\n",
       "      <td>0.0</td>\n",
       "      <td>0.0</td>\n",
       "      <td>NaN</td>\n",
       "      <td>NaN</td>\n",
       "      <td>NaN</td>\n",
       "      <td>NaN</td>\n",
       "      <td>NaN</td>\n",
       "    </tr>\n",
       "    <tr>\n",
       "      <th>3</th>\n",
       "      <td>g10002986-d3510044</td>\n",
       "      <td>Le Relais de Naiade</td>\n",
       "      <td>[\"Europe\", \"France\", \"Nouvelle-Aquitaine\", \"Co...</td>\n",
       "      <td>France</td>\n",
       "      <td>Nouvelle-Aquitaine</td>\n",
       "      <td>Correze</td>\n",
       "      <td>Lacelle</td>\n",
       "      <td>9 avenue Porte de la Correze 19170, 19170 Lace...</td>\n",
       "      <td>45.642610</td>\n",
       "      <td>1.824460</td>\n",
       "      <td>...</td>\n",
       "      <td>1.0</td>\n",
       "      <td>0.0</td>\n",
       "      <td>0.0</td>\n",
       "      <td>0.0</td>\n",
       "      <td>0.0</td>\n",
       "      <td>4.5</td>\n",
       "      <td>4.5</td>\n",
       "      <td>4.5</td>\n",
       "      <td>NaN</td>\n",
       "      <td>NaN</td>\n",
       "    </tr>\n",
       "    <tr>\n",
       "      <th>4</th>\n",
       "      <td>g10022428-d9767191</td>\n",
       "      <td>Relais Du MontSeigne</td>\n",
       "      <td>[\"Europe\", \"France\", \"Occitanie\", \"Aveyron\", \"...</td>\n",
       "      <td>France</td>\n",
       "      <td>Occitanie</td>\n",
       "      <td>Aveyron</td>\n",
       "      <td>Saint-Laurent-de-Levezou</td>\n",
       "      <td>route du Montseigne, 12620 Saint-Laurent-de-Le...</td>\n",
       "      <td>44.208860</td>\n",
       "      <td>2.960470</td>\n",
       "      <td>...</td>\n",
       "      <td>4.0</td>\n",
       "      <td>7.0</td>\n",
       "      <td>0.0</td>\n",
       "      <td>0.0</td>\n",
       "      <td>0.0</td>\n",
       "      <td>4.5</td>\n",
       "      <td>4.5</td>\n",
       "      <td>4.5</td>\n",
       "      <td>NaN</td>\n",
       "      <td>NaN</td>\n",
       "    </tr>\n",
       "    <tr>\n",
       "      <th>...</th>\n",
       "      <td>...</td>\n",
       "      <td>...</td>\n",
       "      <td>...</td>\n",
       "      <td>...</td>\n",
       "      <td>...</td>\n",
       "      <td>...</td>\n",
       "      <td>...</td>\n",
       "      <td>...</td>\n",
       "      <td>...</td>\n",
       "      <td>...</td>\n",
       "      <td>...</td>\n",
       "      <td>...</td>\n",
       "      <td>...</td>\n",
       "      <td>...</td>\n",
       "      <td>...</td>\n",
       "      <td>...</td>\n",
       "      <td>...</td>\n",
       "      <td>...</td>\n",
       "      <td>...</td>\n",
       "      <td>...</td>\n",
       "      <td>...</td>\n",
       "    </tr>\n",
       "    <tr>\n",
       "      <th>155283</th>\n",
       "      <td>g9859641-d7744064</td>\n",
       "      <td>Burgers Bowl</td>\n",
       "      <td>[\"Europe\", \"France\", \"Auvergne-Rhone-Alpes\", \"...</td>\n",
       "      <td>France</td>\n",
       "      <td>Auvergne-Rhone-Alpes</td>\n",
       "      <td>Allier</td>\n",
       "      <td>Premilhat</td>\n",
       "      <td>138 avenue des Martyrs Le bowling De Montlucon...</td>\n",
       "      <td>46.337906</td>\n",
       "      <td>2.573007</td>\n",
       "      <td>...</td>\n",
       "      <td>3.0</td>\n",
       "      <td>2.0</td>\n",
       "      <td>0.0</td>\n",
       "      <td>0.0</td>\n",
       "      <td>1.0</td>\n",
       "      <td>NaN</td>\n",
       "      <td>NaN</td>\n",
       "      <td>NaN</td>\n",
       "      <td>NaN</td>\n",
       "      <td>NaN</td>\n",
       "    </tr>\n",
       "    <tr>\n",
       "      <th>155284</th>\n",
       "      <td>g9862396-d7285125</td>\n",
       "      <td>Au Bon Coin</td>\n",
       "      <td>[\"Europe\", \"France\", \"Normandy\", \"Haute-Norman...</td>\n",
       "      <td>France</td>\n",
       "      <td>Normandy</td>\n",
       "      <td>Haute-Normandie</td>\n",
       "      <td>Colleville</td>\n",
       "      <td>1 rue de la Sucrerie, 76400 Colleville France</td>\n",
       "      <td>49.749690</td>\n",
       "      <td>0.459540</td>\n",
       "      <td>...</td>\n",
       "      <td>0.0</td>\n",
       "      <td>1.0</td>\n",
       "      <td>0.0</td>\n",
       "      <td>0.0</td>\n",
       "      <td>0.0</td>\n",
       "      <td>4.0</td>\n",
       "      <td>4.0</td>\n",
       "      <td>4.0</td>\n",
       "      <td>NaN</td>\n",
       "      <td>NaN</td>\n",
       "    </tr>\n",
       "    <tr>\n",
       "      <th>155285</th>\n",
       "      <td>g9863068-d8560009</td>\n",
       "      <td>S'fassner Stuebel</td>\n",
       "      <td>[\"Europe\", \"France\", \"Grand Est\", \"Bas-Rhin\", ...</td>\n",
       "      <td>France</td>\n",
       "      <td>Grand Est</td>\n",
       "      <td>Bas-Rhin</td>\n",
       "      <td>Fessenheim-le-Bas</td>\n",
       "      <td>14 rue de Marlenheim, 67117 Fessenheim-le-Bas ...</td>\n",
       "      <td>48.631910</td>\n",
       "      <td>7.539170</td>\n",
       "      <td>...</td>\n",
       "      <td>1.0</td>\n",
       "      <td>0.0</td>\n",
       "      <td>0.0</td>\n",
       "      <td>0.0</td>\n",
       "      <td>0.0</td>\n",
       "      <td>3.5</td>\n",
       "      <td>3.5</td>\n",
       "      <td>4.0</td>\n",
       "      <td>NaN</td>\n",
       "      <td>NaN</td>\n",
       "    </tr>\n",
       "    <tr>\n",
       "      <th>155286</th>\n",
       "      <td>g9980751-d16852973</td>\n",
       "      <td>Au bon piccolo</td>\n",
       "      <td>[\"Europe\", \"France\", \"Ile-de-France\", \"Bonneui...</td>\n",
       "      <td>France</td>\n",
       "      <td>Ile-de-France</td>\n",
       "      <td>NaN</td>\n",
       "      <td>Bonneuil-en-France</td>\n",
       "      <td>14 route de Flandres, 95500 Bonneuil-en-France...</td>\n",
       "      <td>48.958115</td>\n",
       "      <td>2.447226</td>\n",
       "      <td>...</td>\n",
       "      <td>NaN</td>\n",
       "      <td>NaN</td>\n",
       "      <td>NaN</td>\n",
       "      <td>NaN</td>\n",
       "      <td>NaN</td>\n",
       "      <td>NaN</td>\n",
       "      <td>NaN</td>\n",
       "      <td>NaN</td>\n",
       "      <td>NaN</td>\n",
       "      <td>NaN</td>\n",
       "    </tr>\n",
       "    <tr>\n",
       "      <th>155287</th>\n",
       "      <td>g9984709-d5854089</td>\n",
       "      <td>Restaurant La Forteresse</td>\n",
       "      <td>[\"Europe\", \"France\", \"Ile-de-France\", \"Seine-e...</td>\n",
       "      <td>France</td>\n",
       "      <td>Ile-de-France</td>\n",
       "      <td>Seine-et-Marne</td>\n",
       "      <td>Thoury-Ferrottes</td>\n",
       "      <td>Domaine de la forteresse, 77940 Thoury-Ferrott...</td>\n",
       "      <td>48.298960</td>\n",
       "      <td>2.952520</td>\n",
       "      <td>...</td>\n",
       "      <td>5.0</td>\n",
       "      <td>10.0</td>\n",
       "      <td>4.0</td>\n",
       "      <td>1.0</td>\n",
       "      <td>2.0</td>\n",
       "      <td>3.5</td>\n",
       "      <td>4.0</td>\n",
       "      <td>3.5</td>\n",
       "      <td>NaN</td>\n",
       "      <td>NaN</td>\n",
       "    </tr>\n",
       "  </tbody>\n",
       "</table>\n",
       "<p>155288 rows × 42 columns</p>\n",
       "</div>"
      ]
     },
     "execution_count": 30,
     "metadata": {},
     "output_type": "execute_result"
    }
   ],
   "execution_count": 30
  },
  {
   "cell_type": "code",
   "id": "8750d217",
   "metadata": {
    "ExecuteTime": {
     "end_time": "2024-07-27T07:24:28.302161Z",
     "start_time": "2024-07-27T07:24:28.299380Z"
    }
   },
   "source": "df_france.columns",
   "outputs": [
    {
     "data": {
      "text/plain": [
       "Index(['restaurant_link', 'restaurant_name', 'original_location', 'country',\n",
       "       'region', 'province', 'city', 'address', 'latitude', 'longitude',\n",
       "       'claimed', 'awards', 'popularity_detailed', 'popularity_generic',\n",
       "       'top_tags', 'price_level', 'price_range', 'meals', 'cuisines',\n",
       "       'special_diets', 'features', 'vegetarian_friendly', 'vegan_options',\n",
       "       'gluten_free', 'original_open_hours', 'open_days_per_week',\n",
       "       'open_hours_per_week', 'working_shifts_per_week', 'avg_rating',\n",
       "       'total_reviews_count', 'default_language',\n",
       "       'reviews_count_in_default_language', 'excellent', 'very_good',\n",
       "       'average', 'poor', 'terrible', 'food', 'service', 'value', 'atmosphere',\n",
       "       'keywords'],\n",
       "      dtype='object')"
      ]
     },
     "execution_count": 98,
     "metadata": {},
     "output_type": "execute_result"
    }
   ],
   "execution_count": 98
  },
  {
   "cell_type": "markdown",
   "id": "0a1097e7",
   "metadata": {},
   "source": [
    "# Convert an objects into viable data \n",
    "(string, int, float....)"
   ]
  },
  {
   "cell_type": "code",
   "id": "c5e7dba8",
   "metadata": {
    "ExecuteTime": {
     "end_time": "2024-09-01T05:20:59.672509Z",
     "start_time": "2024-09-01T05:20:58.598810Z"
    }
   },
   "source": [
    "df_france=pd.read_csv('france_rest.csv')\n",
    "df=df_france.copy()\n",
    "df = df.drop('country', axis=1)"
   ],
   "outputs": [],
   "execution_count": 5
  },
  {
   "metadata": {},
   "cell_type": "markdown",
   "source": "### prepare price_level into category field",
   "id": "11dfff23b69127cd"
  },
  {
   "cell_type": "code",
   "id": "cdfa107b",
   "metadata": {
    "ExecuteTime": {
     "end_time": "2024-08-05T19:42:41.141253Z",
     "start_time": "2024-08-05T19:42:41.080910Z"
    }
   },
   "source": [
    "df['price_level'] = df['price_level'].replace('€', '1')\n",
    "df['price_level'] = df['price_level'].replace('€€-€€€', '2')\n",
    "df['price_level'] = df['price_level'].replace('€€€€', '3')\n",
    "df['price_level']=df['price_level'].astype('category')\n",
    "df = df.drop('price_range', axis=1)"
   ],
   "outputs": [],
   "execution_count": 32
  },
  {
   "metadata": {},
   "cell_type": "markdown",
   "source": "### set Boolean columns",
   "id": "8361d7d3cff989e4"
  },
  {
   "metadata": {
    "ExecuteTime": {
     "end_time": "2024-08-05T19:42:46.299987Z",
     "start_time": "2024-08-05T19:42:46.252506Z"
    }
   },
   "cell_type": "code",
   "source": [
    "# prepare gluten_free into category field\n",
    "df['gluten_free'] = df['gluten_free'].replace(to_replace=\"N\", value='0')\n",
    "df['gluten_free'] = df['gluten_free'].replace(to_replace=\"Y\", value='1')\n",
    "df['gluten_free']=df['gluten_free'].astype('category')"
   ],
   "id": "2a530580de662af8",
   "outputs": [],
   "execution_count": 33
  },
  {
   "metadata": {
    "ExecuteTime": {
     "end_time": "2024-08-05T19:42:46.952925Z",
     "start_time": "2024-08-05T19:42:46.912668Z"
    }
   },
   "cell_type": "code",
   "source": [
    "df['vegetarian_friendly'] = df['vegetarian_friendly'].replace(to_replace=\"N\", value='0')\n",
    "df['vegetarian_friendly'] = df['vegetarian_friendly'].replace(to_replace=\"Y\", value='1')\n",
    "df['vegetarian_friendly']=df['vegetarian_friendly'].astype('category')"
   ],
   "id": "a89e9e23ab5e9969",
   "outputs": [],
   "execution_count": 34
  },
  {
   "metadata": {
    "ExecuteTime": {
     "end_time": "2024-08-05T19:42:48.175697Z",
     "start_time": "2024-08-05T19:42:48.135586Z"
    }
   },
   "cell_type": "code",
   "source": [
    "df['vegan_options'] = df['vegan_options'].replace(to_replace=\"N\", value='0')\n",
    "df['vegan_options'] = df['vegan_options'].replace(to_replace=\"Y\", value='1')\n",
    "df['vegan_options']=df['vegan_options'].astype('category')"
   ],
   "id": "30fdc04a57ece7e0",
   "outputs": [],
   "execution_count": 35
  },
  {
   "metadata": {
    "ExecuteTime": {
     "end_time": "2024-08-05T19:42:48.941294Z",
     "start_time": "2024-08-05T19:42:48.898474Z"
    }
   },
   "cell_type": "code",
   "source": [
    "df['claimed'] = df['claimed'].replace(to_replace=\"Claimed\", value='1')\n",
    "df['claimed'] = df['claimed'].replace(to_replace=\"Unclaimed\", value='0')\n",
    "df['claimed']=df['claimed'].astype('category')"
   ],
   "id": "956c26ac27879282",
   "outputs": [],
   "execution_count": 36
  },
  {
   "metadata": {},
   "cell_type": "markdown",
   "source": "### Awards: group awards into categories",
   "id": "7c6f02fadf29ddca"
  },
  {
   "metadata": {
    "ExecuteTime": {
     "end_time": "2024-09-01T05:21:09.561820Z",
     "start_time": "2024-09-01T05:21:08.421498Z"
    }
   },
   "cell_type": "code",
   "source": [
    "# awards_list: group some of them, and create dummies\n",
    "df['awards_list'] = df['awards'].fillna('').str.split(', ')\n",
    "\n",
    "replacement_dict = {'Michelin 2021 for The Michelin Plate: Good cooking': \"Michelin 2021\",\n",
    "                                               'Michelin 2021 for Simple restaurant': \"Michelin 2021\",\n",
    "                                               'Michelin 2021 for Comfortable restaurant': \"Michelin 2021\",\n",
    "                                               'Michelin 2021 for One Michelin Star: High quality cooking': \"Michelin 2021\",\n",
    "                                               'Michelin 2021 for Bib Gourmand: good quality': \"Michelin 2021\",\n",
    "                                               'Michelin 2021 for Very comfortable restaurant': \"Michelin 2021\",\n",
    "                                               'Michelin 2021 for Two Michelin Stars: Excellent cooking': \"Michelin 2021\",\n",
    "                                               'Michelin 2021 for Extremely comfortable restaurant.': \"Michelin 2021\",\n",
    "                                                'Michelin 2021 for Luxurious restaurant': \"Michelin 2021\",\n",
    "                                               'Michelin 2021 for Three Michelin Stars: Exceptional cuisine': \"Michelin 2021\",\n",
    "                                               \"Travellers' Choice Best of the Best\": \"Travellers Choice\",\n",
    "                                               \"Travellers' Choice 2020\": \"Travellers Choice\",\n",
    "                                                \"Travellers' Choice\": \"Travellers Choice\",\n",
    "                                               'worth a stop!': \"worth\",\n",
    "                                               'worth a detour!': \"worth\",\n",
    "                                               'worth a special journey!': \"worth\",\n",
    "                                               'good value cooking':'worth'}\n",
    "# Replace values within each list\n",
    "df['awards_list'] = df['awards_list'].apply(lambda x: [replacement_dict.get(item, item) for item in x])\n",
    "\n",
    "# Perform one-hot encoding\n",
    "awards_dummies = df['awards_list'].str.join('|').str.get_dummies()\n",
    "\n",
    "# Combine the original DataFrame with the one-hot encoded DataFrame\n",
    "df = pd.concat([df, awards_dummies], axis=1)\n",
    "\n",
    "df = df.drop('awards_list', axis=1)\n",
    "df = df.drop('awards', axis=1)"
   ],
   "id": "7378d9f25140e8ea",
   "outputs": [],
   "execution_count": 6
  },
  {
   "metadata": {},
   "cell_type": "markdown",
   "source": "### Meals: can be one or more: breakfast, Lunch, Dinner",
   "id": "d5b2a495f57dab40"
  },
  {
   "metadata": {
    "ExecuteTime": {
     "end_time": "2024-08-05T19:42:54.552963Z",
     "start_time": "2024-08-05T19:42:54.099511Z"
    }
   },
   "cell_type": "code",
   "source": [
    "# Split the cuisine column into lists\n",
    "df['meals_list'] = df['meals'].str.split(', ')\n",
    "\n",
    "# Perform one-hot encoding\n",
    "meals_dummies = df['meals_list'].str.join('|').str.get_dummies()\n",
    "df = pd.concat([df, meals_dummies], axis=1)\n",
    "df = df.drop('meals_list', axis=1)\n",
    "df = df.drop('meals', axis=1)"
   ],
   "id": "4b5eecbdf0cf36b2",
   "outputs": [],
   "execution_count": 38
  },
  {
   "metadata": {
    "ExecuteTime": {
     "end_time": "2024-08-03T07:34:35.235150Z",
     "start_time": "2024-08-03T07:34:31.786874Z"
    }
   },
   "cell_type": "code",
   "source": [
    "# todo: tags_list \n",
    "# Split the cuisine column into lists\n",
    "df['tags_list'] = df['top_tags'].str.split(', ')\n",
    "df['tags_list'].value_counts()\n",
    "# Perform one-hot encoding\n",
    "#_dummies = df['tags_list'].str.join('|').str.get_dummies()\n",
    "#_counts = _dummies.sum().sort_values(ascending=False)\n",
    "#_counts.to_csv('tags_counts.csv', index=True)\n",
    "\n",
    "#df = pd.concat([df, meals_dummies], axis=1)"
   ],
   "id": "d0f354ff25fa0b21",
   "outputs": [
    {
     "data": {
      "text/plain": [
       "[Mid-range, French]                           19556\n",
       "[Mid-range, French, European]                  7403\n",
       "[Cheap Eats, French]                           6956\n",
       "[French]                                       4666\n",
       "[Mid-range]                                    3511\n",
       "                                              ...  \n",
       "[French, Caribbean, Cajun & Creole]               1\n",
       "[Cheap Eats, American, Bar, International]        1\n",
       "[Mid-range, Deli, Soups]                          1\n",
       "[Mid-range, Asian, Kosher]                        1\n",
       "[Cheap Eats, French, American, Deli]              1\n",
       "Name: tags_list, Length: 7872, dtype: int64"
      ]
     },
     "execution_count": 15,
     "metadata": {},
     "output_type": "execute_result"
    }
   ],
   "execution_count": 15
  },
  {
   "metadata": {},
   "cell_type": "markdown",
   "source": "### Drop Address related columns. Leave only province",
   "id": "43b647617fc64ed2"
  },
  {
   "metadata": {
    "ExecuteTime": {
     "end_time": "2024-08-31T05:31:19.614247Z",
     "start_time": "2024-08-31T05:31:19.371454Z"
    }
   },
   "cell_type": "code",
   "source": [
    "df = df.drop('popularity_detailed', axis=1)\n",
    "df = df.drop('popularity_generic', axis=1)\n",
    "df = df.drop('original_location', axis=1)\n",
    "df = df.drop('region', axis=1)\n",
    "df = df.drop('address', axis=1)\n",
    "df = df.drop('default_language', axis=1)\n"
   ],
   "id": "6492c395796e0c7",
   "outputs": [],
   "execution_count": 8
  },
  {
   "metadata": {
    "ExecuteTime": {
     "end_time": "2024-08-05T19:43:06.521145Z",
     "start_time": "2024-08-05T19:43:06.516510Z"
    }
   },
   "cell_type": "code",
   "source": [
    "#todo: fill 0 values with mean\n",
    "df['open_days_per_week'] = df['open_days_per_week'].astype(float).fillna(0).astype(int)\n"
   ],
   "id": "ea074dd09b1bdba",
   "outputs": [],
   "execution_count": 40
  },
  {
   "metadata": {},
   "cell_type": "markdown",
   "source": "### Check for known_brands that appear more than 10 times. i.e: McDonald",
   "id": "cecbf287b6c5c204"
  },
  {
   "metadata": {
    "ExecuteTime": {
     "end_time": "2024-08-05T19:43:17.411978Z",
     "start_time": "2024-08-05T19:43:14.138674Z"
    }
   },
   "cell_type": "code",
   "source": [
    "# Group by 'restaurant_name' and 'city', and filter groups with more than one entry\n",
    "names_with_duplicates = df.groupby(['restaurant_name', 'city']).filter(lambda x: len(x) > 1)\n",
    "\n",
    "# Get the unique restaurant_name-city combinations with duplicates\n",
    "names_with_duplicates_set = set(names_with_duplicates.set_index(['restaurant_name', 'city']).index)\n",
    "\n",
    "# Dynamically build the known_brands list based on restaurant names that appear more than 10 times in these duplicates\n",
    "known_brands = names_with_duplicates['restaurant_name'].value_counts()[names_with_duplicates['restaurant_name'].value_counts() > 10].index.tolist()\n",
    "\n"
   ],
   "id": "dfa9e67a94888a4c",
   "outputs": [],
   "execution_count": 41
  },
  {
   "metadata": {
    "ExecuteTime": {
     "end_time": "2024-08-05T18:39:02.425785Z",
     "start_time": "2024-08-05T18:39:02.421770Z"
    }
   },
   "cell_type": "code",
   "source": "known_brands",
   "id": "5a39a05c708cea3c",
   "outputs": [
    {
     "data": {
      "text/plain": [
       "[\"McDonald's\",\n",
       " 'Subway',\n",
       " \"Domino's Pizza\",\n",
       " 'Boulangerie Marie Blachere',\n",
       " 'Burger King',\n",
       " 'Paul',\n",
       " 'Starbucks',\n",
       " 'Pizza Hut',\n",
       " 'Quick',\n",
       " 'Columbus Cafe & Co',\n",
       " 'Sushi Shop',\n",
       " 'Buffalo Grill',\n",
       " 'PAUL',\n",
       " 'Bagelstein',\n",
       " 'KFC',\n",
       " 'EXKi',\n",
       " \"O'Tacos\",\n",
       " 'Brioche Doree',\n",
       " \"O'Tacos  \",\n",
       " 'Courtepaille',\n",
       " 'Flunch',\n",
       " 'La Terrasse',\n",
       " 'Pret a Manger',\n",
       " 'Le Pain Quotidien',\n",
       " \"McDonald's \",\n",
       " 'Pomme de Pain',\n",
       " 'Hippopotamus',\n",
       " 'Jour',\n",
       " 'Amorino',\n",
       " 'Sakura',\n",
       " 'Laduree']"
      ]
     },
     "execution_count": 16,
     "metadata": {},
     "output_type": "execute_result"
    }
   ],
   "execution_count": 16
  },
  {
   "metadata": {},
   "cell_type": "markdown",
   "source": [
    "### Remove duplicate lines.\n",
    " A restaurant which appears more than one with a location that close by less than 100 meter"
   ],
   "id": "955f2513eb16ad88"
  },
  {
   "metadata": {
    "ExecuteTime": {
     "end_time": "2024-08-05T19:43:29.835117Z",
     "start_time": "2024-08-05T19:43:24.305176Z"
    }
   },
   "cell_type": "code",
   "source": [
    "\n",
    "from geopy.distance import geodesic\n",
    "\n",
    "# Function to check if two locations are within a threshold distance\n",
    "def are_locations_close(coord1, coord2, threshold_meters=100):\n",
    "    distance = geodesic(coord1, coord2).meters\n",
    "    return distance <= threshold_meters\n",
    "\n",
    "def remove_nearby_duplicates_optimized(df_temp, threshold_meters=100):\n",
    "    # List to keep the indices of unique rows\n",
    "    keep_indices = []\n",
    "\n",
    "    # Iterate over each group of duplicate restaurant_name-city pairs\n",
    "    for (name, city), group in df_temp.groupby(['restaurant_name', 'city']):\n",
    "        if (name, city) not in names_with_duplicates_set:\n",
    "            keep_indices.extend(group.index)\n",
    "            continue\n",
    "        if name in known_brands:\n",
    "            keep_indices.extend(group.index)\n",
    "            continue\n",
    "\n",
    "        # Convert lat/long pairs into a numpy array for efficient processing\n",
    "        coords = group[['latitude', 'longitude']].dropna().to_numpy()\n",
    "        used_indices = set()\n",
    "\n",
    "        for i, coord1 in enumerate(coords):\n",
    "            if i in used_indices:\n",
    "                continue\n",
    "            # Add the first occurrence of each unique restaurant location to the list\n",
    "            keep_indices.append(group.index[i])\n",
    "            for j in range(i + 1, len(coords)):\n",
    "                if j in used_indices:\n",
    "                    continue\n",
    "                coord2 = coords[j]\n",
    "                if are_locations_close(coord1, coord2, threshold_meters):\n",
    "                    used_indices.add(j)\n",
    "\n",
    "    return df_temp.loc[keep_indices].reset_index(drop=True)\n",
    "\n",
    "# Remove duplicates from the entire DataFrame, focusing only on groups that are known to have duplicates\n",
    "# Remove duplicates\n",
    "df_temp=df.copy()\n",
    "df_cleaned = remove_nearby_duplicates_optimized(df_temp)\n",
    "\n",
    "# Display the cleaned DataFrame\n",
    "df_cleaned.to_csv('df_cleaned.csv', index=False)\n",
    "\n"
   ],
   "id": "e9357d50d0aafa60",
   "outputs": [],
   "execution_count": 42
  },
  {
   "metadata": {
    "ExecuteTime": {
     "end_time": "2024-08-31T05:42:54.005885Z",
     "start_time": "2024-08-31T05:42:54.001692Z"
    }
   },
   "cell_type": "code",
   "source": "df['original_open_hours']",
   "id": "acc63af7f3dc53df",
   "outputs": [
    {
     "data": {
      "text/plain": [
       "0                                                       NaN\n",
       "1                                                       NaN\n",
       "2                                                       NaN\n",
       "3                                                       NaN\n",
       "4                                                       NaN\n",
       "                                ...                        \n",
       "155283    {\"Mon\": [\"18:00-02:00\"], \"Tue\": [\"18:00-02:00\"...\n",
       "155284    {\"Mon\": [\"07:30-19:00\"], \"Tue\": [\"07:30-19:00\"...\n",
       "155285    {\"Mon\": [\"11:30-13:30\"], \"Tue\": [\"11:30-13:30\"...\n",
       "155286                                                  NaN\n",
       "155287                                                  NaN\n",
       "Name: original_open_hours, Length: 155288, dtype: object"
      ]
     },
     "execution_count": 9,
     "metadata": {},
     "output_type": "execute_result"
    }
   ],
   "execution_count": 9
  },
  {
   "metadata": {},
   "cell_type": "markdown",
   "source": [
    "### set original hour. This field contains a json based format. \n",
    "#### Generate 3 columns based on it:\n",
    " open_days_count, \n",
    " total_open_hours, \n",
    " open_on_weekend"
   ],
   "id": "e3f00648502fb5"
  },
  {
   "metadata": {
    "ExecuteTime": {
     "end_time": "2024-08-31T05:44:32.422817Z",
     "start_time": "2024-08-31T05:44:31.445528Z"
    }
   },
   "cell_type": "code",
   "source": [
    "\n",
    "import json\n",
    "import numpy as np\n",
    "\n",
    "# Function to parse opening hours and extract features\n",
    "def parse_opening_hours(open_hours_str):\n",
    "    if pd.isna(open_hours_str):\n",
    "        return {\n",
    "            'open_days_count': 0,\n",
    "            'total_open_hours': 0.0,\n",
    "            'open_on_weekend': False\n",
    "        }\n",
    "\n",
    "    # Parse the JSON string into a dictionary\n",
    "    open_hours = json.loads(open_hours_str)\n",
    "\n",
    "    # Initialize feature dictionary\n",
    "    features = {\n",
    "        'open_days_count': 0,\n",
    "        'total_open_hours': 0.0,\n",
    "        'open_on_weekend': False\n",
    "    }\n",
    "\n",
    "    for day, hours in open_hours.items():\n",
    "        # Check if the restaurant is open on this day\n",
    "        if hours:\n",
    "            features['open_days_count'] += 1\n",
    "\n",
    "            # Calculate total hours open for the day\n",
    "            for time_range in hours:\n",
    "                start, end = time_range.split('-')\n",
    "                start_hour, start_minute = map(int, start.split(':'))\n",
    "                end_hour, end_minute = map(int, end.split(':'))\n",
    "\n",
    "                # Calculate the number of hours open\n",
    "                open_duration = (end_hour + end_minute / 60) - (start_hour + start_minute / 60)\n",
    "                features['total_open_hours'] += open_duration\n",
    "\n",
    "            # Check for weekend opening\n",
    "            if day in ['Sat', 'Sun']:\n",
    "                features['open_on_weekend'] = True\n",
    "\n",
    "    return features\n",
    "\n",
    "# Apply the function to extract features from the original_open_hours column\n",
    "opening_features = df['original_open_hours'].apply(parse_opening_hours)\n",
    "\n",
    "# Convert the list of dictionaries to a DataFrame\n",
    "opening_features_df = pd.DataFrame(list(opening_features))\n",
    "\n",
    "# Combine the original DataFrame with the extracted features\n",
    "df = pd.concat([df, opening_features_df], axis=1)\n",
    "\n",
    "df = df.drop('original_open_hours', axis=1)\n",
    "\n"
   ],
   "id": "4d9da8a772a78277",
   "outputs": [],
   "execution_count": 10
  },
  {
   "metadata": {
    "ExecuteTime": {
     "end_time": "2024-08-31T05:44:41.587696Z",
     "start_time": "2024-08-31T05:44:41.581412Z"
    }
   },
   "cell_type": "code",
   "source": "opening_features_df",
   "id": "ccfa330c59d11929",
   "outputs": [
    {
     "data": {
      "text/plain": [
       "        open_days_count  total_open_hours  open_on_weekend\n",
       "0                     0               0.0            False\n",
       "1                     0               0.0            False\n",
       "2                     0               0.0            False\n",
       "3                     0               0.0            False\n",
       "4                     0               0.0            False\n",
       "...                 ...               ...              ...\n",
       "155283                7            -112.0             True\n",
       "155284                6              63.5             True\n",
       "155285                6              19.0             True\n",
       "155286                0               0.0            False\n",
       "155287                0               0.0            False\n",
       "\n",
       "[155288 rows x 3 columns]"
      ],
      "text/html": [
       "<div>\n",
       "<style scoped>\n",
       "    .dataframe tbody tr th:only-of-type {\n",
       "        vertical-align: middle;\n",
       "    }\n",
       "\n",
       "    .dataframe tbody tr th {\n",
       "        vertical-align: top;\n",
       "    }\n",
       "\n",
       "    .dataframe thead th {\n",
       "        text-align: right;\n",
       "    }\n",
       "</style>\n",
       "<table border=\"1\" class=\"dataframe\">\n",
       "  <thead>\n",
       "    <tr style=\"text-align: right;\">\n",
       "      <th></th>\n",
       "      <th>open_days_count</th>\n",
       "      <th>total_open_hours</th>\n",
       "      <th>open_on_weekend</th>\n",
       "    </tr>\n",
       "  </thead>\n",
       "  <tbody>\n",
       "    <tr>\n",
       "      <th>0</th>\n",
       "      <td>0</td>\n",
       "      <td>0.0</td>\n",
       "      <td>False</td>\n",
       "    </tr>\n",
       "    <tr>\n",
       "      <th>1</th>\n",
       "      <td>0</td>\n",
       "      <td>0.0</td>\n",
       "      <td>False</td>\n",
       "    </tr>\n",
       "    <tr>\n",
       "      <th>2</th>\n",
       "      <td>0</td>\n",
       "      <td>0.0</td>\n",
       "      <td>False</td>\n",
       "    </tr>\n",
       "    <tr>\n",
       "      <th>3</th>\n",
       "      <td>0</td>\n",
       "      <td>0.0</td>\n",
       "      <td>False</td>\n",
       "    </tr>\n",
       "    <tr>\n",
       "      <th>4</th>\n",
       "      <td>0</td>\n",
       "      <td>0.0</td>\n",
       "      <td>False</td>\n",
       "    </tr>\n",
       "    <tr>\n",
       "      <th>...</th>\n",
       "      <td>...</td>\n",
       "      <td>...</td>\n",
       "      <td>...</td>\n",
       "    </tr>\n",
       "    <tr>\n",
       "      <th>155283</th>\n",
       "      <td>7</td>\n",
       "      <td>-112.0</td>\n",
       "      <td>True</td>\n",
       "    </tr>\n",
       "    <tr>\n",
       "      <th>155284</th>\n",
       "      <td>6</td>\n",
       "      <td>63.5</td>\n",
       "      <td>True</td>\n",
       "    </tr>\n",
       "    <tr>\n",
       "      <th>155285</th>\n",
       "      <td>6</td>\n",
       "      <td>19.0</td>\n",
       "      <td>True</td>\n",
       "    </tr>\n",
       "    <tr>\n",
       "      <th>155286</th>\n",
       "      <td>0</td>\n",
       "      <td>0.0</td>\n",
       "      <td>False</td>\n",
       "    </tr>\n",
       "    <tr>\n",
       "      <th>155287</th>\n",
       "      <td>0</td>\n",
       "      <td>0.0</td>\n",
       "      <td>False</td>\n",
       "    </tr>\n",
       "  </tbody>\n",
       "</table>\n",
       "<p>155288 rows × 3 columns</p>\n",
       "</div>"
      ]
     },
     "execution_count": 11,
     "metadata": {},
     "output_type": "execute_result"
    }
   ],
   "execution_count": 11
  },
  {
   "metadata": {
    "ExecuteTime": {
     "end_time": "2024-08-05T19:43:41.319111Z",
     "start_time": "2024-08-05T19:43:41.241461Z"
    }
   },
   "cell_type": "code",
   "source": "df['is_brand'] = df['restaurant_name'].apply(lambda name: 1 if name in known_brands else 0)\n",
   "id": "7a83a6ad1153ae36",
   "outputs": [],
   "execution_count": 45
  },
  {
   "metadata": {},
   "cell_type": "markdown",
   "source": "### Drop rating related data. it is redundant with the predicted metric",
   "id": "53356211ddeb33a8"
  },
  {
   "metadata": {
    "ExecuteTime": {
     "end_time": "2024-08-05T19:43:43.050431Z",
     "start_time": "2024-08-05T19:43:42.827993Z"
    }
   },
   "cell_type": "code",
   "source": [
    "# re,ove the different rating columns\n",
    "df = df.drop('service', axis=1)\n",
    "df = df.drop('food', axis=1)\n",
    "df = df.drop('terrible', axis=1)\n",
    "df = df.drop('atmosphere', axis=1)\n",
    "df = df.drop('keywords', axis=1)\n",
    "df = df.drop('value', axis=1)\n",
    "df = df.drop('poor', axis=1)\n",
    "df = df.drop('average', axis=1)\n",
    "df = df.drop('very_good', axis=1)\n",
    "df = df.drop('excellent', axis=1)\n",
    "df = df.drop('reviews_count_in_default_language', axis=1)\n",
    "\n"
   ],
   "id": "c64f7508d6f2d2b5",
   "outputs": [],
   "execution_count": 46
  },
  {
   "metadata": {},
   "cell_type": "markdown",
   "source": [
    "# setting target value: high_rated_population\n",
    "A total reviews more than 100 and an rating more than 4 out of 5"
   ],
   "id": "c646dd233b3dc350"
  },
  {
   "metadata": {
    "ExecuteTime": {
     "end_time": "2024-08-05T19:43:44.435673Z",
     "start_time": "2024-08-05T19:43:44.430323Z"
    }
   },
   "cell_type": "code",
   "source": [
    "\n",
    "df['high_rated_popular'] = ((df['total_reviews_count'] > 100) & (df['avg_rating'] >= 4)).fillna(False).astype(int)\n"
   ],
   "id": "4e75af3a104a8975",
   "outputs": [],
   "execution_count": 47
  },
  {
   "metadata": {
    "ExecuteTime": {
     "end_time": "2024-08-05T19:22:27.595284Z",
     "start_time": "2024-08-05T19:22:27.479035Z"
    }
   },
   "cell_type": "code",
   "source": "df.info()",
   "id": "b6c449962246dc4f",
   "outputs": [
    {
     "name": "stdout",
     "output_type": "stream",
     "text": [
      "<class 'pandas.core.frame.DataFrame'>\n",
      "RangeIndex: 154924 entries, 0 to 154923\n",
      "Data columns (total 44 columns):\n",
      " #   Column                          Non-Null Count   Dtype   \n",
      "---  ------                          --------------   -----   \n",
      " 0   restaurant_link                 154924 non-null  object  \n",
      " 1   restaurant_name                 154924 non-null  object  \n",
      " 2   province                        136752 non-null  object  \n",
      " 3   city                            154924 non-null  object  \n",
      " 4   latitude                        153037 non-null  float64 \n",
      " 5   longitude                       153037 non-null  float64 \n",
      " 6   claimed                         154753 non-null  category\n",
      " 7   top_tags                        141275 non-null  object  \n",
      " 8   price_level                     125242 non-null  category\n",
      " 9   cuisines                        132566 non-null  object  \n",
      " 10  special_diets                   27045 non-null   object  \n",
      " 11  features                        61203 non-null   object  \n",
      " 12  vegetarian_friendly             154924 non-null  category\n",
      " 13  vegan_options                   154924 non-null  category\n",
      " 14  gluten_free                     154924 non-null  category\n",
      " 15  open_days_per_week              154924 non-null  int64   \n",
      " 16  open_hours_per_week             85313 non-null   float64 \n",
      " 17  working_shifts_per_week         85313 non-null   float64 \n",
      " 18  avg_rating                      144149 non-null  float64 \n",
      " 19  total_reviews_count             148474 non-null  float64 \n",
      " 20  Certificate of Excellence 2011  154924 non-null  int64   \n",
      " 21  Certificate of Excellence 2012  154924 non-null  int64   \n",
      " 22  Certificate of Excellence 2013  154924 non-null  int64   \n",
      " 23  Certificate of Excellence 2014  154924 non-null  int64   \n",
      " 24  Certificate of Excellence 2015  154924 non-null  int64   \n",
      " 25  Certificate of Excellence 2016  154924 non-null  int64   \n",
      " 26  Certificate of Excellence 2017  154924 non-null  int64   \n",
      " 27  Certificate of Excellence 2018  154924 non-null  int64   \n",
      " 28  Certificate of Excellence 2019  154924 non-null  int64   \n",
      " 29  Certificate of Excellence 2020  154924 non-null  int64   \n",
      " 30  Michelin 2021                   154924 non-null  int64   \n",
      " 31  Travellers Choice               154924 non-null  int64   \n",
      " 32  worth                           154924 non-null  int64   \n",
      " 33  After-hours                     154924 non-null  int64   \n",
      " 34  Breakfast                       154924 non-null  int64   \n",
      " 35  Brunch                          154924 non-null  int64   \n",
      " 36  Dinner                          154924 non-null  int64   \n",
      " 37  Drinks                          154924 non-null  int64   \n",
      " 38  Lunch                           154924 non-null  int64   \n",
      " 39  open_days_count                 154924 non-null  int64   \n",
      " 40  total_open_hours                154924 non-null  float64 \n",
      " 41  open_on_weekend                 154924 non-null  bool    \n",
      " 42  is_brand                        154924 non-null  int64   \n",
      " 43  high_rated_popular              154924 non-null  int64   \n",
      "dtypes: bool(1), category(5), float64(7), int64(23), object(8)\n",
      "memory usage: 45.8+ MB\n"
     ]
    }
   ],
   "execution_count": 24
  },
  {
   "metadata": {
    "ExecuteTime": {
     "end_time": "2024-08-05T19:43:50.319959Z",
     "start_time": "2024-08-05T19:43:50.315869Z"
    }
   },
   "cell_type": "code",
   "source": "df['cuisines']",
   "id": "2fcbf6897ed2acd3",
   "outputs": [
    {
     "data": {
      "text/plain": [
       "0                                             French\n",
       "1                                             French\n",
       "2                                             French\n",
       "3                                        Dining bars\n",
       "4         Italian, Pizza, Sicilian, Southern-Italian\n",
       "                             ...                    \n",
       "154919             Japanese, Sushi, Thai, Vietnamese\n",
       "154920                        Sushi, Asian, Japanese\n",
       "154921                   Italian, Pizza, Street Food\n",
       "154922                                       Chinese\n",
       "154923                                           NaN\n",
       "Name: cuisines, Length: 154924, dtype: object"
      ]
     },
     "execution_count": 48,
     "metadata": {},
     "output_type": "execute_result"
    }
   ],
   "execution_count": 48
  },
  {
   "metadata": {},
   "cell_type": "markdown",
   "source": [
    "### Cousines \n",
    "A restaurant can have more than one cousine. Get top 15 cousines and mark the rest as Other"
   ],
   "id": "5168e947584272e7"
  },
  {
   "metadata": {
    "ExecuteTime": {
     "end_time": "2024-08-05T20:03:47.869106Z",
     "start_time": "2024-08-05T20:03:47.392892Z"
    }
   },
   "cell_type": "code",
   "source": [
    "# Step 1: Create a temporary column to work with cuisines\n",
    "# Ensure every entry is a list\n",
    "df['cuisines_temp'] = df['cuisines'].fillna('').apply(lambda x: x.split(', '))\n",
    "\n",
    "# Step 2: Flatten the list of cuisines and count occurrences\n",
    "cuisine_series = pd.Series([cuisine for sublist in df['cuisines_temp'] for cuisine in sublist if cuisine])\n",
    "\n",
    "# Compute cuisine frequencies\n",
    "cuisine_counts = cuisine_series.value_counts()\n",
    "\n",
    "# Step 3: Define the number of top cuisines to keep as separate categories\n",
    "top_n = 15\n",
    "top_cuisines = cuisine_counts.head(top_n).index.tolist()\n",
    "\n",
    "# Map each cuisine to its group\n",
    "def map_cuisine_to_category(cuisine_list):\n",
    "    return [cuisine if cuisine in top_cuisines else 'Other' for cuisine in cuisine_list]\n",
    "\n",
    "# Apply the mapping to the temporary column\n",
    "df['cuisine_group'] = df['cuisines_temp'].apply(map_cuisine_to_category)\n",
    "\n",
    "# Step 4: Create one-hot encoding for each grouped category\n",
    "# Flatten the list of cuisines to handle multi-cuisine entries\n",
    "def create_one_hot_encoding(cuisine_groups):\n",
    "    # Flatten the list of lists into a single list\n",
    "    all_cuisines = [cuisine for sublist in cuisine_groups for cuisine in sublist]\n",
    "\n",
    "    # Create a DataFrame from the list with multi-index to track original indices\n",
    "    df_flattened = pd.DataFrame({\n",
    "        'index': cuisine_groups.index.repeat(cuisine_groups.apply(len)),\n",
    "        'cuisine': all_cuisines\n",
    "    })\n",
    "\n",
    "    # Perform one-hot encoding on the flattened DataFrame\n",
    "    dummies = pd.get_dummies(df_flattened['cuisine'])\n",
    "\n",
    "    # Aggregate back to the original index\n",
    "    dummies_grouped = dummies.groupby(df_flattened['index']).sum()\n",
    "\n",
    "    return dummies_grouped\n",
    "\n",
    "# Create one-hot encoding based on grouped categories\n",
    "cuisine_dummies = create_one_hot_encoding(df['cuisine_group'])\n",
    "\n",
    "# Combine the one-hot encoded DataFrame with the original DataFrame\n",
    "df_new2 = pd.concat([df.drop(['cuisines_temp', 'cuisine_group'], axis=1), cuisine_dummies], axis=1)\n"
   ],
   "id": "2cc104155b6210d6",
   "outputs": [],
   "execution_count": 60
  },
  {
   "metadata": {
    "ExecuteTime": {
     "end_time": "2024-08-10T06:09:42.192347Z",
     "start_time": "2024-08-10T06:09:41.595814Z"
    }
   },
   "cell_type": "code",
   "source": "df_new2.to_csv('flat_with_location.csv', index=False)",
   "id": "58422f2dadf51b27",
   "outputs": [],
   "execution_count": 2
  },
  {
   "metadata": {
    "ExecuteTime": {
     "end_time": "2024-08-05T20:25:00.060404Z",
     "start_time": "2024-08-05T20:25:00.051160Z"
    }
   },
   "cell_type": "code",
   "source": "df_cleaned.head()",
   "id": "87e2c143893772e7",
   "outputs": [
    {
     "data": {
      "text/plain": [
       "                                    restaurant_name                  city  \\\n",
       "0                                  \" Le Brelevenez\"               Lannion   \n",
       "1  \"Au Gentil Marquis\" Pâtisserie Cyrille Pertuisot     Beaune-la-Rolande   \n",
       "2                                        \"Bouche B\"                Nantes   \n",
       "3                                     \"Chez Pierre\"  Charleville-Mezieres   \n",
       "4                                    \"Il Capriccio\"                Menton   \n",
       "\n",
       "  claimed price_level                                           features  \\\n",
       "0       1           2                                                NaN   \n",
       "1       1           3  Delivery, Street Parking, Serves Alcohol, Digi...   \n",
       "2       0           2  Reservations, Seating, Table Service, Wheelcha...   \n",
       "3       0         NaN                                                NaN   \n",
       "4       1         NaN  Takeout, Reservations, Seating, Table Service,...   \n",
       "\n",
       "  vegetarian_friendly vegan_options gluten_free  open_days_per_week  \\\n",
       "0                   0             0           0                   0   \n",
       "1                   0             0           0                   5   \n",
       "2                   0             0           0                   0   \n",
       "3                   0             0           0                   5   \n",
       "4                   0             0           0                   7   \n",
       "\n",
       "   Certificate of Excellence 2011  ...  Fast food  French  Healthy  Italian  \\\n",
       "0                               0  ...          0       1        0        0   \n",
       "1                               0  ...          0       1        0        0   \n",
       "2                               0  ...          0       1        0        0   \n",
       "3                               0  ...          0       0        0        0   \n",
       "4                               0  ...          0       0        0        1   \n",
       "\n",
       "   Japanese  Mediterranean  Other  Pizza  Pub  Seafood  \n",
       "0         0              0      0      0    0        0  \n",
       "1         0              0      0      0    0        0  \n",
       "2         0              0      0      0    0        0  \n",
       "3         0              0      1      0    0        0  \n",
       "4         0              0      2      1    0        0  \n",
       "\n",
       "[5 rows x 49 columns]"
      ],
      "text/html": [
       "<div>\n",
       "<style scoped>\n",
       "    .dataframe tbody tr th:only-of-type {\n",
       "        vertical-align: middle;\n",
       "    }\n",
       "\n",
       "    .dataframe tbody tr th {\n",
       "        vertical-align: top;\n",
       "    }\n",
       "\n",
       "    .dataframe thead th {\n",
       "        text-align: right;\n",
       "    }\n",
       "</style>\n",
       "<table border=\"1\" class=\"dataframe\">\n",
       "  <thead>\n",
       "    <tr style=\"text-align: right;\">\n",
       "      <th></th>\n",
       "      <th>restaurant_name</th>\n",
       "      <th>city</th>\n",
       "      <th>claimed</th>\n",
       "      <th>price_level</th>\n",
       "      <th>features</th>\n",
       "      <th>vegetarian_friendly</th>\n",
       "      <th>vegan_options</th>\n",
       "      <th>gluten_free</th>\n",
       "      <th>open_days_per_week</th>\n",
       "      <th>Certificate of Excellence 2011</th>\n",
       "      <th>...</th>\n",
       "      <th>Fast food</th>\n",
       "      <th>French</th>\n",
       "      <th>Healthy</th>\n",
       "      <th>Italian</th>\n",
       "      <th>Japanese</th>\n",
       "      <th>Mediterranean</th>\n",
       "      <th>Other</th>\n",
       "      <th>Pizza</th>\n",
       "      <th>Pub</th>\n",
       "      <th>Seafood</th>\n",
       "    </tr>\n",
       "  </thead>\n",
       "  <tbody>\n",
       "    <tr>\n",
       "      <th>0</th>\n",
       "      <td>\" Le Brelevenez\"</td>\n",
       "      <td>Lannion</td>\n",
       "      <td>1</td>\n",
       "      <td>2</td>\n",
       "      <td>NaN</td>\n",
       "      <td>0</td>\n",
       "      <td>0</td>\n",
       "      <td>0</td>\n",
       "      <td>0</td>\n",
       "      <td>0</td>\n",
       "      <td>...</td>\n",
       "      <td>0</td>\n",
       "      <td>1</td>\n",
       "      <td>0</td>\n",
       "      <td>0</td>\n",
       "      <td>0</td>\n",
       "      <td>0</td>\n",
       "      <td>0</td>\n",
       "      <td>0</td>\n",
       "      <td>0</td>\n",
       "      <td>0</td>\n",
       "    </tr>\n",
       "    <tr>\n",
       "      <th>1</th>\n",
       "      <td>\"Au Gentil Marquis\" Pâtisserie Cyrille Pertuisot</td>\n",
       "      <td>Beaune-la-Rolande</td>\n",
       "      <td>1</td>\n",
       "      <td>3</td>\n",
       "      <td>Delivery, Street Parking, Serves Alcohol, Digi...</td>\n",
       "      <td>0</td>\n",
       "      <td>0</td>\n",
       "      <td>0</td>\n",
       "      <td>5</td>\n",
       "      <td>0</td>\n",
       "      <td>...</td>\n",
       "      <td>0</td>\n",
       "      <td>1</td>\n",
       "      <td>0</td>\n",
       "      <td>0</td>\n",
       "      <td>0</td>\n",
       "      <td>0</td>\n",
       "      <td>0</td>\n",
       "      <td>0</td>\n",
       "      <td>0</td>\n",
       "      <td>0</td>\n",
       "    </tr>\n",
       "    <tr>\n",
       "      <th>2</th>\n",
       "      <td>\"Bouche B\"</td>\n",
       "      <td>Nantes</td>\n",
       "      <td>0</td>\n",
       "      <td>2</td>\n",
       "      <td>Reservations, Seating, Table Service, Wheelcha...</td>\n",
       "      <td>0</td>\n",
       "      <td>0</td>\n",
       "      <td>0</td>\n",
       "      <td>0</td>\n",
       "      <td>0</td>\n",
       "      <td>...</td>\n",
       "      <td>0</td>\n",
       "      <td>1</td>\n",
       "      <td>0</td>\n",
       "      <td>0</td>\n",
       "      <td>0</td>\n",
       "      <td>0</td>\n",
       "      <td>0</td>\n",
       "      <td>0</td>\n",
       "      <td>0</td>\n",
       "      <td>0</td>\n",
       "    </tr>\n",
       "    <tr>\n",
       "      <th>3</th>\n",
       "      <td>\"Chez Pierre\"</td>\n",
       "      <td>Charleville-Mezieres</td>\n",
       "      <td>0</td>\n",
       "      <td>NaN</td>\n",
       "      <td>NaN</td>\n",
       "      <td>0</td>\n",
       "      <td>0</td>\n",
       "      <td>0</td>\n",
       "      <td>5</td>\n",
       "      <td>0</td>\n",
       "      <td>...</td>\n",
       "      <td>0</td>\n",
       "      <td>0</td>\n",
       "      <td>0</td>\n",
       "      <td>0</td>\n",
       "      <td>0</td>\n",
       "      <td>0</td>\n",
       "      <td>1</td>\n",
       "      <td>0</td>\n",
       "      <td>0</td>\n",
       "      <td>0</td>\n",
       "    </tr>\n",
       "    <tr>\n",
       "      <th>4</th>\n",
       "      <td>\"Il Capriccio\"</td>\n",
       "      <td>Menton</td>\n",
       "      <td>1</td>\n",
       "      <td>NaN</td>\n",
       "      <td>Takeout, Reservations, Seating, Table Service,...</td>\n",
       "      <td>0</td>\n",
       "      <td>0</td>\n",
       "      <td>0</td>\n",
       "      <td>7</td>\n",
       "      <td>0</td>\n",
       "      <td>...</td>\n",
       "      <td>0</td>\n",
       "      <td>0</td>\n",
       "      <td>0</td>\n",
       "      <td>1</td>\n",
       "      <td>0</td>\n",
       "      <td>0</td>\n",
       "      <td>2</td>\n",
       "      <td>1</td>\n",
       "      <td>0</td>\n",
       "      <td>0</td>\n",
       "    </tr>\n",
       "  </tbody>\n",
       "</table>\n",
       "<p>5 rows × 49 columns</p>\n",
       "</div>"
      ]
     },
     "execution_count": 78,
     "metadata": {},
     "output_type": "execute_result"
    }
   ],
   "execution_count": 78
  },
  {
   "metadata": {
    "ExecuteTime": {
     "end_time": "2024-08-31T07:13:28.053720Z",
     "start_time": "2024-08-31T07:13:27.560958Z"
    }
   },
   "cell_type": "code",
   "source": "df = pd.read_csv(\"flat_with_location.csv\")\n",
   "id": "ef030df82003cce6",
   "outputs": [],
   "execution_count": 12
  },
  {
   "metadata": {
    "ExecuteTime": {
     "end_time": "2024-08-31T07:13:31.271698Z",
     "start_time": "2024-08-31T07:13:31.009772Z"
    }
   },
   "cell_type": "code",
   "source": [
    "#df = df_new2.copy()\n",
    "df = df.drop('restaurant_link', axis=1)\n",
    "df = df.drop('city', axis=1)\n",
    "df = df.drop('longitude', axis=1)\n",
    "df = df.drop('latitude', axis=1)\n",
    "df = df.drop('cuisines', axis=1)\n",
    "df = df.drop('cuisines_split', axis=1)\n",
    "df = df.drop('avg_rating', axis=1)\n",
    "df = df.drop('total_reviews_count', axis=1)\n",
    "df = df.drop('special_diets', axis=1)\n",
    "df = df.drop('open_hours_per_week', axis=1)\n",
    "df = df.drop('top_tags', axis=1)\n"
   ],
   "id": "9a2b95c6669e2a81",
   "outputs": [],
   "execution_count": 13
  },
  {
   "metadata": {
    "ExecuteTime": {
     "end_time": "2024-08-31T07:14:34.243770Z",
     "start_time": "2024-08-31T07:14:34.217564Z"
    }
   },
   "cell_type": "code",
   "source": "df.info()",
   "id": "ae306970eb22e0e2",
   "outputs": [
    {
     "name": "stdout",
     "output_type": "stream",
     "text": [
      "<class 'pandas.core.frame.DataFrame'>\n",
      "RangeIndex: 154924 entries, 0 to 154923\n",
      "Data columns (total 50 columns):\n",
      " #   Column                          Non-Null Count   Dtype  \n",
      "---  ------                          --------------   -----  \n",
      " 0   restaurant_name                 154924 non-null  object \n",
      " 1   province                        154924 non-null  object \n",
      " 2   claimed                         154753 non-null  float64\n",
      " 3   price_level                     125242 non-null  float64\n",
      " 4   features                        61203 non-null   object \n",
      " 5   vegetarian_friendly             154924 non-null  int64  \n",
      " 6   vegan_options                   154924 non-null  int64  \n",
      " 7   gluten_free                     154924 non-null  int64  \n",
      " 8   open_days_per_week              154924 non-null  int64  \n",
      " 9   working_shifts_per_week         85313 non-null   float64\n",
      " 10  Certificate of Excellence 2011  154924 non-null  int64  \n",
      " 11  Certificate of Excellence 2012  154924 non-null  int64  \n",
      " 12  Certificate of Excellence 2013  154924 non-null  int64  \n",
      " 13  Certificate of Excellence 2014  154924 non-null  int64  \n",
      " 14  Certificate of Excellence 2015  154924 non-null  int64  \n",
      " 15  Certificate of Excellence 2016  154924 non-null  int64  \n",
      " 16  Certificate of Excellence 2017  154924 non-null  int64  \n",
      " 17  Certificate of Excellence 2018  154924 non-null  int64  \n",
      " 18  Certificate of Excellence 2019  154924 non-null  int64  \n",
      " 19  Certificate of Excellence 2020  154924 non-null  int64  \n",
      " 20  Michelin 2021                   154924 non-null  int64  \n",
      " 21  Travellers Choice               154924 non-null  int64  \n",
      " 22  worth                           154924 non-null  int64  \n",
      " 23  After-hours                     154924 non-null  int64  \n",
      " 24  Breakfast                       154924 non-null  int64  \n",
      " 25  Brunch                          154924 non-null  int64  \n",
      " 26  Dinner                          154924 non-null  int64  \n",
      " 27  Drinks                          154924 non-null  int64  \n",
      " 28  Lunch                           154924 non-null  int64  \n",
      " 29  open_days_count                 154924 non-null  int64  \n",
      " 30  total_open_hours                154924 non-null  float64\n",
      " 31  open_on_weekend                 154924 non-null  bool   \n",
      " 32  is_brand                        154924 non-null  int64  \n",
      " 33  high_rated_popular              154924 non-null  int64  \n",
      " 34  American                        154924 non-null  int64  \n",
      " 35  Asian                           154924 non-null  int64  \n",
      " 36  Bar                             154924 non-null  int64  \n",
      " 37  Cafe                            154924 non-null  int64  \n",
      " 38  Chinese                         154924 non-null  int64  \n",
      " 39  European                        154924 non-null  int64  \n",
      " 40  Fast food                       154924 non-null  int64  \n",
      " 41  French                          154924 non-null  int64  \n",
      " 42  Healthy                         154924 non-null  int64  \n",
      " 43  Italian                         154924 non-null  int64  \n",
      " 44  Japanese                        154924 non-null  int64  \n",
      " 45  Mediterranean                   154924 non-null  int64  \n",
      " 46  Other                           154924 non-null  int64  \n",
      " 47  Pizza                           154924 non-null  int64  \n",
      " 48  Pub                             154924 non-null  int64  \n",
      " 49  Seafood                         154924 non-null  int64  \n",
      "dtypes: bool(1), float64(4), int64(42), object(3)\n",
      "memory usage: 58.1+ MB\n"
     ]
    }
   ],
   "execution_count": 16
  },
  {
   "metadata": {},
   "cell_type": "markdown",
   "source": "### province: set this column as code category",
   "id": "f08e3a4580ab686a"
  },
  {
   "metadata": {
    "ExecuteTime": {
     "end_time": "2024-08-31T07:14:28.487323Z",
     "start_time": "2024-08-31T07:14:28.474987Z"
    }
   },
   "cell_type": "code",
   "source": [
    "df['province'] = df['province'].astype('category')\n",
    "\n",
    "# Replace the categorical values with numerical codes\n",
    "df['province_Code'] = df['province'].cat.codes\n",
    "df = df.drop('province', axis=1)\n"
   ],
   "id": "58233bd21660d572",
   "outputs": [],
   "execution_count": 15
  },
  {
   "metadata": {
    "ExecuteTime": {
     "end_time": "2024-08-10T06:42:14.159515Z",
     "start_time": "2024-08-10T06:42:14.119366Z"
    }
   },
   "cell_type": "code",
   "source": [
    "\n",
    "df['working_shifts_per_week']=df['working_shifts_per_week'].astype('str')"
   ],
   "id": "7fff576fdf208263",
   "outputs": [],
   "execution_count": 22
  },
  {
   "metadata": {
    "ExecuteTime": {
     "end_time": "2024-08-10T06:16:53.196544Z",
     "start_time": "2024-08-10T06:16:53.190771Z"
    }
   },
   "cell_type": "code",
   "source": "",
   "id": "ed1d32c9bfb67e18",
   "outputs": [],
   "execution_count": 6
  },
  {
   "metadata": {
    "ExecuteTime": {
     "end_time": "2024-08-10T06:42:28.959245Z",
     "start_time": "2024-08-10T06:42:27.803380Z"
    }
   },
   "cell_type": "code",
   "source": [
    "df['features_list'] = df['features'].str.split(', ')\n",
    "\n",
    "# Perform one-hot encoding\n",
    "features_dummies = df['features_list'].str.join('|').str.get_dummies()\n",
    "df = pd.concat([df, features_dummies], axis=1)\n",
    "df = df.drop('features_list', axis=1)\n",
    "df = df.drop('features', axis=1)\n"
   ],
   "id": "529043b49aef21a8",
   "outputs": [],
   "execution_count": 23
  },
  {
   "metadata": {
    "ExecuteTime": {
     "end_time": "2024-08-10T06:42:39.225794Z",
     "start_time": "2024-08-10T06:42:37.885016Z"
    }
   },
   "cell_type": "code",
   "source": "df.to_csv('flat_file3.csv', index=False)\n",
   "id": "f144f9b96fdaef91",
   "outputs": [],
   "execution_count": 24
  }
 ],
 "metadata": {
  "kernelspec": {
   "display_name": "Python 3 (ipykernel)",
   "language": "python",
   "name": "python3"
  },
  "language_info": {
   "codemirror_mode": {
    "name": "ipython",
    "version": 3
   },
   "file_extension": ".py",
   "mimetype": "text/x-python",
   "name": "python",
   "nbconvert_exporter": "python",
   "pygments_lexer": "ipython3",
   "version": "3.9.6"
  }
 },
 "nbformat": 4,
 "nbformat_minor": 5
}
