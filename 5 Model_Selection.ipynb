{
 "cells": [
  {
   "cell_type": "code",
   "metadata": {
    "ExecuteTime": {
     "end_time": "2024-09-01T16:46:32.995911Z",
     "start_time": "2024-09-01T16:46:32.988419Z"
    }
   },
   "source": [
    "import warnings\n",
    "import pandas as pd\n",
    "from sklearn.preprocessing import MinMaxScaler , StandardScaler , RobustScaler\n",
    "\n",
    "# Ignore warnings\n",
    "warnings.filterwarnings('ignore')"
   ],
   "outputs": [],
   "execution_count": 27
  },
  {
   "metadata": {
    "ExecuteTime": {
     "end_time": "2024-09-01T16:46:34.382353Z",
     "start_time": "2024-09-01T16:46:33.916094Z"
    }
   },
   "cell_type": "code",
   "source": [
    "df = pd.read_csv(\"flat_file3.csv\" , index_col=False)\n",
    "df = df.dropna()"
   ],
   "outputs": [],
   "execution_count": 28
  },
  {
   "metadata": {
    "ExecuteTime": {
     "end_time": "2024-09-01T16:46:34.888639Z",
     "start_time": "2024-09-01T16:46:34.874029Z"
    }
   },
   "cell_type": "code",
   "source": "df = df.drop('restaurant_name', axis=1)",
   "outputs": [],
   "execution_count": 29
  },
  {
   "cell_type": "code",
   "metadata": {
    "ExecuteTime": {
     "end_time": "2024-09-01T16:46:39.059037Z",
     "start_time": "2024-09-01T16:46:38.802677Z"
    }
   },
   "source": [
    "from sklearn.model_selection import train_test_split\n",
    "import pandas as pd\n",
    "\n",
    "# Define the target and feature set\n",
    "total_samples = df.shape[0]\n",
    "display(df.head())\n",
    "\n",
    "X = df.loc[:,df.columns != 'high_rated_popular']\n",
    "y = df['high_rated_popular']\n",
    "\n",
    "scaler = StandardScaler()\n",
    "X_scaled = scaler.fit_transform(X)\n",
    "\n",
    "X_train, X_test, y_train, y_test = train_test_split(X, y, shuffle=True,test_size=0.2, random_state=5)\n",
    "\n"
   ],
   "outputs": [
    {
     "data": {
      "text/plain": [
       "    claimed  price_level  vegetarian_friendly  vegan_options  gluten_free  \\\n",
       "1       1.0          3.0                    0              0            0   \n",
       "5       1.0          2.0                    0              0            0   \n",
       "6       1.0          2.0                    0              0            0   \n",
       "11      1.0          2.0                    1              0            0   \n",
       "16      1.0          2.0                    0              0            0   \n",
       "\n",
       "    open_days_per_week  working_shifts_per_week  \\\n",
       "1                    5                     10.0   \n",
       "5                    5                      5.0   \n",
       "6                    6                      8.0   \n",
       "11                   7                     12.0   \n",
       "16                   1                      1.0   \n",
       "\n",
       "    Certificate of Excellence 2011  Certificate of Excellence 2012  \\\n",
       "1                                0                               0   \n",
       "5                                0                               0   \n",
       "6                                0                               0   \n",
       "11                               0                               0   \n",
       "16                               0                               0   \n",
       "\n",
       "    Certificate of Excellence 2013  ...  Street Parking  Table Service  \\\n",
       "1                                0  ...               1              0   \n",
       "5                                0  ...               1              0   \n",
       "6                                0  ...               0              1   \n",
       "11                               0  ...               0              0   \n",
       "16                               0  ...               0              0   \n",
       "\n",
       "    Takeout  Television  Valet Parking  Validated Parking  Waterfront  \\\n",
       "1         0           0              0                  0           0   \n",
       "5         1           0              0                  0           0   \n",
       "6         0           0              0                  0           0   \n",
       "11        0           0              0                  0           0   \n",
       "16        0           0              0                  0           0   \n",
       "\n",
       "    Wheelchair Accessible  Wine and Beer  province_Code  \n",
       "1                       0              0             55  \n",
       "5                       1              1             41  \n",
       "6                       0              0             14  \n",
       "11                      0              0             -1  \n",
       "16                      0              0             26  \n",
       "\n",
       "[5 rows x 87 columns]"
      ],
      "text/html": [
       "<div>\n",
       "<style scoped>\n",
       "    .dataframe tbody tr th:only-of-type {\n",
       "        vertical-align: middle;\n",
       "    }\n",
       "\n",
       "    .dataframe tbody tr th {\n",
       "        vertical-align: top;\n",
       "    }\n",
       "\n",
       "    .dataframe thead th {\n",
       "        text-align: right;\n",
       "    }\n",
       "</style>\n",
       "<table border=\"1\" class=\"dataframe\">\n",
       "  <thead>\n",
       "    <tr style=\"text-align: right;\">\n",
       "      <th></th>\n",
       "      <th>claimed</th>\n",
       "      <th>price_level</th>\n",
       "      <th>vegetarian_friendly</th>\n",
       "      <th>vegan_options</th>\n",
       "      <th>gluten_free</th>\n",
       "      <th>open_days_per_week</th>\n",
       "      <th>working_shifts_per_week</th>\n",
       "      <th>Certificate of Excellence 2011</th>\n",
       "      <th>Certificate of Excellence 2012</th>\n",
       "      <th>Certificate of Excellence 2013</th>\n",
       "      <th>...</th>\n",
       "      <th>Street Parking</th>\n",
       "      <th>Table Service</th>\n",
       "      <th>Takeout</th>\n",
       "      <th>Television</th>\n",
       "      <th>Valet Parking</th>\n",
       "      <th>Validated Parking</th>\n",
       "      <th>Waterfront</th>\n",
       "      <th>Wheelchair Accessible</th>\n",
       "      <th>Wine and Beer</th>\n",
       "      <th>province_Code</th>\n",
       "    </tr>\n",
       "  </thead>\n",
       "  <tbody>\n",
       "    <tr>\n",
       "      <th>1</th>\n",
       "      <td>1.0</td>\n",
       "      <td>3.0</td>\n",
       "      <td>0</td>\n",
       "      <td>0</td>\n",
       "      <td>0</td>\n",
       "      <td>5</td>\n",
       "      <td>10.0</td>\n",
       "      <td>0</td>\n",
       "      <td>0</td>\n",
       "      <td>0</td>\n",
       "      <td>...</td>\n",
       "      <td>1</td>\n",
       "      <td>0</td>\n",
       "      <td>0</td>\n",
       "      <td>0</td>\n",
       "      <td>0</td>\n",
       "      <td>0</td>\n",
       "      <td>0</td>\n",
       "      <td>0</td>\n",
       "      <td>0</td>\n",
       "      <td>55</td>\n",
       "    </tr>\n",
       "    <tr>\n",
       "      <th>5</th>\n",
       "      <td>1.0</td>\n",
       "      <td>2.0</td>\n",
       "      <td>0</td>\n",
       "      <td>0</td>\n",
       "      <td>0</td>\n",
       "      <td>5</td>\n",
       "      <td>5.0</td>\n",
       "      <td>0</td>\n",
       "      <td>0</td>\n",
       "      <td>0</td>\n",
       "      <td>...</td>\n",
       "      <td>1</td>\n",
       "      <td>0</td>\n",
       "      <td>1</td>\n",
       "      <td>0</td>\n",
       "      <td>0</td>\n",
       "      <td>0</td>\n",
       "      <td>0</td>\n",
       "      <td>1</td>\n",
       "      <td>1</td>\n",
       "      <td>41</td>\n",
       "    </tr>\n",
       "    <tr>\n",
       "      <th>6</th>\n",
       "      <td>1.0</td>\n",
       "      <td>2.0</td>\n",
       "      <td>0</td>\n",
       "      <td>0</td>\n",
       "      <td>0</td>\n",
       "      <td>6</td>\n",
       "      <td>8.0</td>\n",
       "      <td>0</td>\n",
       "      <td>0</td>\n",
       "      <td>0</td>\n",
       "      <td>...</td>\n",
       "      <td>0</td>\n",
       "      <td>1</td>\n",
       "      <td>0</td>\n",
       "      <td>0</td>\n",
       "      <td>0</td>\n",
       "      <td>0</td>\n",
       "      <td>0</td>\n",
       "      <td>0</td>\n",
       "      <td>0</td>\n",
       "      <td>14</td>\n",
       "    </tr>\n",
       "    <tr>\n",
       "      <th>11</th>\n",
       "      <td>1.0</td>\n",
       "      <td>2.0</td>\n",
       "      <td>1</td>\n",
       "      <td>0</td>\n",
       "      <td>0</td>\n",
       "      <td>7</td>\n",
       "      <td>12.0</td>\n",
       "      <td>0</td>\n",
       "      <td>0</td>\n",
       "      <td>0</td>\n",
       "      <td>...</td>\n",
       "      <td>0</td>\n",
       "      <td>0</td>\n",
       "      <td>0</td>\n",
       "      <td>0</td>\n",
       "      <td>0</td>\n",
       "      <td>0</td>\n",
       "      <td>0</td>\n",
       "      <td>0</td>\n",
       "      <td>0</td>\n",
       "      <td>-1</td>\n",
       "    </tr>\n",
       "    <tr>\n",
       "      <th>16</th>\n",
       "      <td>1.0</td>\n",
       "      <td>2.0</td>\n",
       "      <td>0</td>\n",
       "      <td>0</td>\n",
       "      <td>0</td>\n",
       "      <td>1</td>\n",
       "      <td>1.0</td>\n",
       "      <td>0</td>\n",
       "      <td>0</td>\n",
       "      <td>0</td>\n",
       "      <td>...</td>\n",
       "      <td>0</td>\n",
       "      <td>0</td>\n",
       "      <td>0</td>\n",
       "      <td>0</td>\n",
       "      <td>0</td>\n",
       "      <td>0</td>\n",
       "      <td>0</td>\n",
       "      <td>0</td>\n",
       "      <td>0</td>\n",
       "      <td>26</td>\n",
       "    </tr>\n",
       "  </tbody>\n",
       "</table>\n",
       "<p>5 rows × 87 columns</p>\n",
       "</div>"
      ]
     },
     "metadata": {},
     "output_type": "display_data"
    }
   ],
   "execution_count": 30
  },
  {
   "cell_type": "code",
   "metadata": {
    "ExecuteTime": {
     "end_time": "2024-09-01T15:40:16.415509Z",
     "start_time": "2024-09-01T15:40:16.410815Z"
    }
   },
   "source": [
    "# Hyperparameter tuning for the models with GridSearchCV\n",
    "\n",
    "from sklearn.linear_model import LogisticRegression \n",
    "from sklearn.tree import DecisionTreeClassifier\n",
    "from sklearn.ensemble import RandomForestClassifier, AdaBoostClassifier, GradientBoostingClassifier\n",
    "\n",
    "from sklearn.naive_bayes import GaussianNB\n",
    "import xgboost as xgb\n",
    "\n",
    "results = []\n",
    "names = []\n",
    "best_params = []\n",
    "models = {}\n",
    "\n",
    "\n",
    "scores = [\"recall\" , \"f1\"]\n",
    "def print_dataframe(filtered_cv_results):\n",
    "    \"\"\"Pretty print for filtered dataframe\"\"\"\n",
    "    for mean_precision, std_precision, mean_recall, std_recall, params in zip(\n",
    "        results[\"mean_test_f1\"],\n",
    "        results[\"std_test_f1\"],\n",
    "        results[\"mean_test_recall\"],\n",
    "        results[\"std_test_recall\"],\n",
    "        results[\"params\"],\n",
    "    ):\n",
    "        print(\n",
    "            f\"precision: {mean_precision:0.3f} (±{std_precision:0.03f}),\"\n",
    "            f\" recall: {mean_recall:0.3f} (±{std_recall:0.03f}),\"\n",
    "            f\" for {params}\"\n",
    "        )\n",
    "    print()\n",
    "\n",
    "# iterate and run all models\n",
    "def execute_model(models_, X , y , scoring = 'f1', folds = 5 , random_state_id = 5):  \n",
    "    for name, model, params in models_:\n",
    "        kfold = KFold(n_splits=folds, random_state= random_state_id, shuffle=True)\n",
    "        grid_search = GridSearchCV(model, params,cv = kfold, refit = True , scoring=scoring, verbose=0)\n",
    "        grid_search.fit(X, y)\n",
    "        #best_params.append(grid_search.best_params_)         \n",
    "        results.append(grid_search.best_score_)\n",
    "        names.append(name)\n",
    "       # models[name]=grid_search.best_estimator_\n",
    "                \n",
    "    return names, results  , models\n"
   ],
   "outputs": [],
   "execution_count": 14
  },
  {
   "cell_type": "code",
   "metadata": {
    "ExecuteTime": {
     "end_time": "2024-09-01T16:47:12.946878Z",
     "start_time": "2024-09-01T16:47:12.939246Z"
    }
   },
   "source": [
    "# Create Models parameters data\n",
    "\n",
    "rfc = RandomForestClassifier()\n",
    "dtc = DecisionTreeClassifier()\n",
    "lr = LogisticRegression()\n",
    "gbc = GradientBoostingClassifier()\n",
    "adac = AdaBoostClassifier()\n",
    "xgboostc = xgb.XGBClassifier()\n",
    "gnb = GaussianNB()\n",
    "\n",
    "models = [\n",
    "    ('RF', rfc,{}),\n",
    "    ('DTC', dtc,{}),\n",
    "    ('LR', lr,{}),\n",
    "    ('GB', gbc,{}),\n",
    "    ('AdaBoostClassifier', adac,{}),\n",
    "    ('XGBClassifier', xgboostc,{}),\n",
    "    ('GaussianNB', gnb, {})]\n",
    "\n",
    " "
   ],
   "outputs": [],
   "execution_count": 31
  },
  {
   "cell_type": "code",
   "metadata": {
    "ExecuteTime": {
     "end_time": "2024-09-01T15:41:45.952452Z",
     "start_time": "2024-09-01T15:40:18.288125Z"
    }
   },
   "source": [
    "hyperparameters_scoring='f1' # 'f1'\n",
    "folds_number = 5\n",
    "random_state_id = 5\n",
    "names, results  , models  = execute_model(models, X_train , y_train, folds = folds_number, scoring=hyperparameters_scoring, random_state_id = random_state_id)"
   ],
   "outputs": [],
   "execution_count": 16
  },
  {
   "cell_type": "markdown",
   "metadata": {},
   "source": [
    "## Models Validation"
   ]
  },
  {
   "metadata": {
    "ExecuteTime": {
     "end_time": "2024-09-01T15:46:46.569560Z",
     "start_time": "2024-09-01T15:46:46.565792Z"
    }
   },
   "cell_type": "code",
   "source": [
    "for name, cv_result  , model  in zip(names, results , models):\n",
    "    print(name)\n"
   ],
   "outputs": [
    {
     "name": "stdout",
     "output_type": "stream",
     "text": [
      "RF\n",
      "DTC\n",
      "LR\n",
      "GB\n",
      "AdaBoostClassifier\n",
      "XGBClassifier\n",
      "GaussianNB\n"
     ]
    },
    {
     "data": {
      "text/plain": [
       "Empty DataFrame\n",
       "Columns: []\n",
       "Index: []"
      ],
      "text/html": [
       "<div>\n",
       "<style scoped>\n",
       "    .dataframe tbody tr th:only-of-type {\n",
       "        vertical-align: middle;\n",
       "    }\n",
       "\n",
       "    .dataframe tbody tr th {\n",
       "        vertical-align: top;\n",
       "    }\n",
       "\n",
       "    .dataframe thead th {\n",
       "        text-align: right;\n",
       "    }\n",
       "</style>\n",
       "<table border=\"1\" class=\"dataframe\">\n",
       "  <thead>\n",
       "    <tr style=\"text-align: right;\">\n",
       "      <th></th>\n",
       "    </tr>\n",
       "  </thead>\n",
       "  <tbody>\n",
       "  </tbody>\n",
       "</table>\n",
       "</div>"
      ]
     },
     "execution_count": 23,
     "metadata": {},
     "output_type": "execute_result"
    }
   ],
   "execution_count": 23
  },
  {
   "cell_type": "code",
   "metadata": {
    "ExecuteTime": {
     "end_time": "2024-09-01T15:48:02.747733Z",
     "start_time": "2024-09-01T15:48:02.742593Z"
    }
   },
   "source": [
    "\n",
    "hyperparameter_tuning_scores_df = pd.DataFrame()\n",
    "model_params_df = pd.DataFrame()\n",
    "\n",
    "for name, cv_result  , model  in zip(names, results , models):        \n",
    "        # handle the results (cross-validation scores)        \n",
    "        dict = {'Model': name, 'Score': cv_result.round(3)}\n",
    "        row = pd.DataFrame([dict])             \n",
    "        hyperparameter_tuning_scores_df = pd.concat([hyperparameter_tuning_scores_df, row], axis=0)   \n",
    "\n",
    "\n",
    "hyperparameter_tuning_scores_df.reset_index(drop=True, inplace=True)\n",
    "hyperparameter_tuning_scores_df.sort_values(by='Score', ascending=False, inplace=True)\n",
    "\n"
   ],
   "outputs": [],
   "execution_count": 24
  },
  {
   "cell_type": "code",
   "metadata": {
    "ExecuteTime": {
     "end_time": "2024-09-01T15:49:13.954182Z",
     "start_time": "2024-09-01T15:49:13.944475Z"
    }
   },
   "source": [
    "display(hyperparameter_tuning_scores_df.sort_values(by='Score', ascending=False))\n",
    "display(model_params_df)"
   ],
   "outputs": [
    {
     "data": {
      "text/plain": [
       "                Model  Score\n",
       "5       XGBClassifier  0.870\n",
       "3                  GB  0.868\n",
       "0                  RF  0.866\n",
       "2                  LR  0.861\n",
       "4  AdaBoostClassifier  0.859\n",
       "6          GaussianNB  0.818\n",
       "1                 DTC  0.802"
      ],
      "text/html": [
       "<div>\n",
       "<style scoped>\n",
       "    .dataframe tbody tr th:only-of-type {\n",
       "        vertical-align: middle;\n",
       "    }\n",
       "\n",
       "    .dataframe tbody tr th {\n",
       "        vertical-align: top;\n",
       "    }\n",
       "\n",
       "    .dataframe thead th {\n",
       "        text-align: right;\n",
       "    }\n",
       "</style>\n",
       "<table border=\"1\" class=\"dataframe\">\n",
       "  <thead>\n",
       "    <tr style=\"text-align: right;\">\n",
       "      <th></th>\n",
       "      <th>Model</th>\n",
       "      <th>Score</th>\n",
       "    </tr>\n",
       "  </thead>\n",
       "  <tbody>\n",
       "    <tr>\n",
       "      <th>5</th>\n",
       "      <td>XGBClassifier</td>\n",
       "      <td>0.870</td>\n",
       "    </tr>\n",
       "    <tr>\n",
       "      <th>3</th>\n",
       "      <td>GB</td>\n",
       "      <td>0.868</td>\n",
       "    </tr>\n",
       "    <tr>\n",
       "      <th>0</th>\n",
       "      <td>RF</td>\n",
       "      <td>0.866</td>\n",
       "    </tr>\n",
       "    <tr>\n",
       "      <th>2</th>\n",
       "      <td>LR</td>\n",
       "      <td>0.861</td>\n",
       "    </tr>\n",
       "    <tr>\n",
       "      <th>4</th>\n",
       "      <td>AdaBoostClassifier</td>\n",
       "      <td>0.859</td>\n",
       "    </tr>\n",
       "    <tr>\n",
       "      <th>6</th>\n",
       "      <td>GaussianNB</td>\n",
       "      <td>0.818</td>\n",
       "    </tr>\n",
       "    <tr>\n",
       "      <th>1</th>\n",
       "      <td>DTC</td>\n",
       "      <td>0.802</td>\n",
       "    </tr>\n",
       "  </tbody>\n",
       "</table>\n",
       "</div>"
      ]
     },
     "metadata": {},
     "output_type": "display_data"
    },
    {
     "data": {
      "text/plain": [
       "Empty DataFrame\n",
       "Columns: []\n",
       "Index: []"
      ],
      "text/html": [
       "<div>\n",
       "<style scoped>\n",
       "    .dataframe tbody tr th:only-of-type {\n",
       "        vertical-align: middle;\n",
       "    }\n",
       "\n",
       "    .dataframe tbody tr th {\n",
       "        vertical-align: top;\n",
       "    }\n",
       "\n",
       "    .dataframe thead th {\n",
       "        text-align: right;\n",
       "    }\n",
       "</style>\n",
       "<table border=\"1\" class=\"dataframe\">\n",
       "  <thead>\n",
       "    <tr style=\"text-align: right;\">\n",
       "      <th></th>\n",
       "    </tr>\n",
       "  </thead>\n",
       "  <tbody>\n",
       "  </tbody>\n",
       "</table>\n",
       "</div>"
      ]
     },
     "metadata": {},
     "output_type": "display_data"
    }
   ],
   "execution_count": 26
  },
  {
   "cell_type": "code",
   "metadata": {
    "ExecuteTime": {
     "end_time": "2024-09-01T14:24:44.784772Z",
     "start_time": "2024-09-01T14:24:44.781377Z"
    }
   },
   "source": [
    "# prepare code  measuring performance of the models\n",
    "from sklearn import metrics\n",
    "\n",
    "def classificationMetrics(y, yhat):\n",
    "    res = {'Accuracy': metrics.accuracy_score(y,yhat),\n",
    "           'Precision': metrics.precision_score(y,yhat),\n",
    "           'Recall': metrics.recall_score(y,yhat),\n",
    "           'F1': metrics.f1_score(y,yhat),\n",
    "           'AUC': metrics.roc_auc_score(y,yhat)\n",
    "          }\n",
    "    return res"
   ],
   "outputs": [],
   "execution_count": 15
  },
  {
   "cell_type": "code",
   "metadata": {
    "ExecuteTime": {
     "end_time": "2024-09-01T14:24:46.497787Z",
     "start_time": "2024-09-01T14:24:46.492782Z"
    }
   },
   "source": [
    "import matplotlib.pyplot as plt\n",
    "\n",
    "def test_model(model , model_name, X , y, models_perfmance_df):    \n",
    "    lrtest_pred = model.predict(X)    # model is a best estimator from GridSearchCV \n",
    "    display(f\"Performance metrics for {model_name} model\")                              \n",
    "    print(classification_report(y_test, lrtest_pred))\n",
    "    mod1_dict = {'Model': model_name}\n",
    "    new_row = pd.DataFrame([{**mod1_dict, **classificationMetrics(y, lrtest_pred) }])\n",
    "    models_perfmance_df = pd.concat([models_perfmance_df, new_row], ignore_index=True)    \n",
    "    cm = confusion_matrix(y, lrtest_pred)      \n",
    "    disp = ConfusionMatrixDisplay(confusion_matrix=cm, display_labels=['Benign', 'Malignant'])\n",
    "\n",
    "    disp.plot(cmap=plt.cm.Blues, ax=plt.gca())\n",
    "    disp.ax_.set_title(f\"Confusion Matrix for {model_name}\")\n",
    "    plt.rcParams['figure.figsize'] = [4, 3]\n",
    "    plt.tight_layout()\n",
    "    plt.show()    \n",
    "    return models_perfmance_df\n",
    "\n",
    "\n",
    "def validate_models(models_perfmance_df, X, y):\n",
    "    # tests different models with best parameters from hyperparameter tuning and returns the performance metrics\n",
    "    for model_name in models.keys():\n",
    "        model_instance = models[model_name]      \n",
    "        models_perfmance_df  = test_model(model_instance , model_name, X, y, models_perfmance_df)    \n",
    "\n",
    "    models_perfmance_df.reset_index(drop=True, inplace=True)\n",
    "    models_perfmance_df.set_index('Model', inplace=True)\n",
    "    return models_perfmance_df"
   ],
   "outputs": [],
   "execution_count": 16
  },
  {
   "cell_type": "code",
   "metadata": {
    "ExecuteTime": {
     "end_time": "2024-09-01T14:24:54.229487Z",
     "start_time": "2024-09-01T14:24:53.120227Z"
    }
   },
   "source": [
    "\n",
    "models_perfmance_df_test = pd.DataFrame()\n",
    "display(\"Validation : models confusion matrixes:\")\n",
    "models_perfmance_df_test = validate_models(models_perfmance_df_test,X_test, y_test)"
   ],
   "outputs": [
    {
     "data": {
      "text/plain": [
       "'Validation : models confusion matrixes:'"
      ]
     },
     "metadata": {},
     "output_type": "display_data"
    },
    {
     "data": {
      "text/plain": [
       "'Performance metrics for RF model'"
      ]
     },
     "metadata": {},
     "output_type": "display_data"
    },
    {
     "name": "stdout",
     "output_type": "stream",
     "text": [
      "              precision    recall  f1-score   support\n",
      "\n",
      "           0       0.93      0.94      0.94     10471\n",
      "           1       0.88      0.86      0.87      5192\n",
      "\n",
      "    accuracy                           0.91     15663\n",
      "   macro avg       0.91      0.90      0.90     15663\n",
      "weighted avg       0.91      0.91      0.91     15663\n",
      "\n"
     ]
    },
    {
     "data": {
      "text/plain": [
       "<Figure size 640x480 with 2 Axes>"
      ],
      "image/png": "[encoded data removed]"
     },
     "metadata": {},
     "output_type": "display_data"
    },
    {
     "data": {
      "text/plain": [
       "'Performance metrics for DTC model'"
      ]
     },
     "metadata": {},
     "output_type": "display_data"
    },
    {
     "name": "stdout",
     "output_type": "stream",
     "text": [
      "              precision    recall  f1-score   support\n",
      "\n",
      "           0       0.92      0.94      0.93     10471\n",
      "           1       0.88      0.83      0.86      5192\n",
      "\n",
      "    accuracy                           0.91     15663\n",
      "   macro avg       0.90      0.89      0.89     15663\n",
      "weighted avg       0.91      0.91      0.91     15663\n",
      "\n"
     ]
    },
    {
     "data": {
      "text/plain": [
       "<Figure size 400x300 with 2 Axes>"
      ],
      "image/png": "[encoded data removed]"
     },
     "metadata": {},
     "output_type": "display_data"
    },
    {
     "data": {
      "text/plain": [
       "'Performance metrics for LR model'"
      ]
     },
     "metadata": {},
     "output_type": "display_data"
    },
    {
     "name": "stdout",
     "output_type": "stream",
     "text": [
      "              precision    recall  f1-score   support\n",
      "\n",
      "           0       0.92      0.95      0.94     10471\n",
      "           1       0.89      0.84      0.86      5192\n",
      "\n",
      "    accuracy                           0.91     15663\n",
      "   macro avg       0.91      0.89      0.90     15663\n",
      "weighted avg       0.91      0.91      0.91     15663\n",
      "\n"
     ]
    },
    {
     "data": {
      "text/plain": [
       "<Figure size 400x300 with 2 Axes>"
      ],
      "image/png": "[encoded data removed]"
     },
     "metadata": {},
     "output_type": "display_data"
    },
    {
     "data": {
      "text/plain": [
       "'Performance metrics for XGBClassifier model'"
      ]
     },
     "metadata": {},
     "output_type": "display_data"
    },
    {
     "name": "stdout",
     "output_type": "stream",
     "text": [
      "              precision    recall  f1-score   support\n",
      "\n",
      "           0       0.93      0.95      0.94     10471\n",
      "           1       0.89      0.85      0.87      5192\n",
      "\n",
      "    accuracy                           0.92     15663\n",
      "   macro avg       0.91      0.90      0.91     15663\n",
      "weighted avg       0.92      0.92      0.92     15663\n",
      "\n"
     ]
    },
    {
     "data": {
      "text/plain": [
       "<Figure size 400x300 with 2 Axes>"
      ],
      "image/png": "[encoded data removed]"
     },
     "metadata": {},
     "output_type": "display_data"
    },
    {
     "data": {
      "text/plain": [
       "'Performance metrics for GaussianNB model'"
      ]
     },
     "metadata": {},
     "output_type": "display_data"
    },
    {
     "name": "stdout",
     "output_type": "stream",
     "text": [
      "              precision    recall  f1-score   support\n",
      "\n",
      "           0       0.95      0.86      0.90     10471\n",
      "           1       0.76      0.90      0.82      5192\n",
      "\n",
      "    accuracy                           0.87     15663\n",
      "   macro avg       0.85      0.88      0.86     15663\n",
      "weighted avg       0.88      0.87      0.87     15663\n",
      "\n"
     ]
    },
    {
     "data": {
      "text/plain": [
       "<Figure size 400x300 with 2 Axes>"
      ],
      "image/png": "[encoded data removed]"
     },
     "metadata": {},
     "output_type": "display_data"
    }
   ],
   "execution_count": 17
  },
  {
   "cell_type": "code",
   "metadata": {
    "ExecuteTime": {
     "end_time": "2024-09-01T16:52:17.576998Z",
     "start_time": "2024-09-01T16:52:17.569718Z"
    }
   },
   "source": [
    "# fine tune models parameters\n",
    "# use customized refit_strategy to select the best estimator\n",
    "def fine_tune_model(model , X_train, y_train, X_test, y_test, params):\n",
    "    grid_search = GridSearchCV(model, params, refit = refit_strategy, scoring= scores, verbose= 1, n_jobs= -1)                                              \n",
    "    grid_search.fit(X_train, y_train)\n",
    "    best_params = grid_search.best_params_\n",
    "    print(f\"Best parameters for the { type(model).__name__  } after fine tuning: {best_params}\")\n",
    "    y_test_pred = grid_search.best_estimator_.predict(X_test)\n",
    "    cls_rprt = classificationMetrics(y_test, y_test_pred)\n",
    "    print(classification_report(y_test, y_test_pred))\n",
    "    print(cls_rprt)\n",
    "    display(confusion_matrix(y_test, y_test_pred))\n",
    "    return grid_search.best_estimator_ , cls_rprt\n"
   ],
   "outputs": [],
   "execution_count": 36
  },
  {
   "metadata": {},
   "cell_type": "markdown",
   "source": "# Fine tune XGBClassifier"
  },
  {
   "cell_type": "markdown",
   "metadata": {},
   "source": ""
  },
  {
   "metadata": {
    "ExecuteTime": {
     "end_time": "2024-09-01T17:12:40.033332Z",
     "start_time": "2024-09-01T17:05:48.065814Z"
    }
   },
   "cell_type": "code",
   "source": [
    "import warnings\n",
    "from sklearn.model_selection import RandomizedSearchCV\n",
    "import xgboost as xgb\n",
    "from sklearn.metrics import classification_report\n",
    "\n",
    "# Suppress all warnings\n",
    "warnings.filterwarnings('ignore')\n",
    "\n",
    "# Define the parameter grid (without 'n_jobs')\n",
    "tuned_parameters_XGBClassifier = {\n",
    "    'n_estimators': [200, 300],\n",
    "    'subsample': [0.7, 0.9],\n",
    "    'colsample_bytree': [0.7, 0.9],\n",
    "    'min_child_weight': [1, 3, 5],\n",
    "    'gamma': [0, 0.1, 0.2],\n",
    "    'alpha': [0, 0.1, 0.5],\n",
    "    'lambda': [1, 1.5, 2]\n",
    "}\n",
    "\n",
    "# Define the model with early stopping and verbosity directly in the constructor\n",
    "model = xgb.XGBClassifier(\n",
    "    early_stopping_rounds=10,  # Set early stopping here\n",
    "    verbosity=0  # Suppress output\n",
    ")\n",
    "\n",
    "# Set up the RandomizedSearchCV\n",
    "random_search = RandomizedSearchCV(\n",
    "    estimator=model,\n",
    "    param_distributions=tuned_parameters_XGBClassifier,\n",
    "    n_iter=100,  # Number of parameter settings that are sampled\n",
    "    scoring='accuracy',  # Metric to optimize\n",
    "    n_jobs=-1,  # Use all available cores for parallel processing\n",
    "    cv=5,  # 5-fold cross-validation\n",
    "    verbose=3,\n",
    "    random_state=42\n",
    ")\n",
    "\n",
    "# Fit the model without passing early stopping in fit method\n",
    "random_search.fit(\n",
    "    X_train, y_train,\n",
    "    eval_set=[(X_test, y_test)],\n",
    "    verbose=False  # Suppress the detailed per-iteration output\n",
    ")\n",
    "\n",
    "# Retrieve the best estimator\n",
    "best_model = random_search.best_estimator_\n",
    "\n",
    "# Predict and evaluate on the test set\n",
    "y_pred = best_model.predict(X_test)\n",
    "clf_report_xgbc = classification_report(y_test, y_pred)\n",
    "\n",
    "# Print the best parameters and the classification report\n",
    "print(\"Best Parameters:\", random_search.best_params_)\n",
    "print(clf_report_xgbc)\n"
   ],
   "outputs": [
    {
     "name": "stdout",
     "output_type": "stream",
     "text": [
      "Fitting 5 folds for each of 100 candidates, totalling 500 fits\n",
      "Best Parameters: {'subsample': 0.9, 'n_estimators': 200, 'min_child_weight': 1, 'lambda': 1, 'gamma': 0, 'colsample_bytree': 0.9, 'alpha': 0}\n",
      "              precision    recall  f1-score   support\n",
      "\n",
      "           0       0.93      0.95      0.94     10471\n",
      "           1       0.89      0.86      0.87      5192\n",
      "\n",
      "    accuracy                           0.92     15663\n",
      "   macro avg       0.91      0.90      0.91     15663\n",
      "weighted avg       0.92      0.92      0.92     15663\n",
      "\n"
     ]
    }
   ],
   "execution_count": 48
  },
  {
   "metadata": {
    "ExecuteTime": {
     "end_time": "2024-09-01T17:17:33.631843Z",
     "start_time": "2024-09-01T17:17:33.343095Z"
    }
   },
   "cell_type": "code",
   "source": [
    "import matplotlib.pyplot as plt\n",
    "import seaborn as sns\n",
    "from sklearn.metrics import confusion_matrix\n",
    "\n",
    "# Assuming y_test is the true labels and y_pred is the predicted labels\n",
    "cm = confusion_matrix(y_test, y_pred)\n",
    "\n",
    "# Optionally, you can print the confusion matrix as a raw array\n",
    "print(\"Confusion Matrix:\\n\", cm)\n",
    "\n",
    "# Visualizing the confusion matrix using seaborn\n",
    "plt.figure(figsize=(8, 6))\n",
    "sns.heatmap(cm, annot=True, fmt='d', cmap='Blues', xticklabels=[0, 1], yticklabels=[0, 1])\n",
    "plt.xlabel('Predicted Label')\n",
    "plt.ylabel('True Label')\n",
    "plt.title('Confusion Matrix')\n",
    "plt.show()\n"
   ],
   "outputs": [
    {
     "name": "stdout",
     "output_type": "stream",
     "text": [
      "Confusion Matrix:\n",
      " [[9920  551]\n",
      " [ 750 4442]]\n"
     ]
    },
    {
     "data": {
      "text/plain": [
       "<Figure size 800x600 with 2 Axes>"
      ],
      "image/png": "[encoded data removed]"
     },
     "metadata": {},
     "output_type": "display_data"
    }
   ],
   "execution_count": 49
  }
 ],
 "metadata": {
  "kernelspec": {
   "display_name": "Python 3",
   "language": "python",
   "name": "python3"
  },
  "language_info": {
   "codemirror_mode": {
    "name": "ipython",
    "version": 3
   },
   "file_extension": ".py",
   "mimetype": "text/x-python",
   "name": "python",
   "nbconvert_exporter": "python",
   "pygments_lexer": "ipython3",
   "version": "3.10.12"
  }
 },
 "nbformat": 4,
 "nbformat_minor": 2
}
